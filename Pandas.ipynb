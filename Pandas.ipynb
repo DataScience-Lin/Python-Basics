{
  "nbformat": 4,
  "nbformat_minor": 0,
  "metadata": {
    "colab": {
      "provenance": []
    },
    "kernelspec": {
      "name": "python3",
      "display_name": "Python 3"
    },
    "language_info": {
      "name": "python"
    }
  },
  "cells": [
    {
      "cell_type": "markdown",
      "source": [
        "**Pandas**"
      ],
      "metadata": {
        "id": "yzWonRX9HCVh"
      }
    },
    {
      "cell_type": "markdown",
      "source": [
        "***What is Pandas and why use it***"
      ],
      "metadata": {
        "id": "MXbtf-XtRZoT"
      }
    },
    {
      "cell_type": "markdown",
      "source": [
        "\n",
        "\n",
        "*   Open source python library\n",
        "*   mostly for data manipulation\n",
        "*   CSV, excel, SQL....\n",
        "*   Mainly 2 data structures\n",
        "\n",
        "1.   Series\n",
        "2.   Data Frame\n",
        "\n",
        "\n",
        "\n",
        "1.   Data Cleansing\n",
        "2.   Data exploration\n",
        "3.   Data Integration\n",
        "4.   Data Transformation\n",
        "5.   Data Analysis\n",
        "6.   Data Visulization\n",
        "\n",
        "\n",
        "\n",
        "\n",
        "\n",
        "\n",
        "\n",
        "\n",
        "\n",
        "\n",
        "\n",
        "\n",
        "\n",
        "\n",
        "\n",
        "\n",
        "\n",
        "\n"
      ],
      "metadata": {
        "id": "wyr6k1FLHJBW"
      }
    },
    {
      "cell_type": "markdown",
      "source": [
        "**Series**"
      ],
      "metadata": {
        "id": "GpO1nRqpIKZB"
      }
    },
    {
      "cell_type": "code",
      "execution_count": null,
      "metadata": {
        "colab": {
          "base_uri": "https://localhost:8080/"
        },
        "id": "ffacpaydG_ix",
        "outputId": "0bea9376-6fc6-4682-869b-374a4b00e5c0"
      },
      "outputs": [
        {
          "output_type": "stream",
          "name": "stdout",
          "text": [
            "0    a\n",
            "1    b\n",
            "2    c\n",
            "3    d\n",
            "4    e\n",
            "dtype: object\n"
          ]
        }
      ],
      "source": [
        "import pandas as pd\n",
        "\n",
        "#Create a series from a list of integers\n",
        "\n",
        "data=pd.Series(['a','b','c','d','e'])\n",
        "\n",
        "print(data)"
      ]
    },
    {
      "cell_type": "code",
      "source": [
        "data = pd.Series([10,20,30,40,50,60], index=['a','b','c','d','e','f'])\n",
        "print(data)"
      ],
      "metadata": {
        "colab": {
          "base_uri": "https://localhost:8080/"
        },
        "id": "0738mHo1Iuz6",
        "outputId": "e53cd6b6-63e1-4c3b-9167-672265d29fe4"
      },
      "execution_count": null,
      "outputs": [
        {
          "output_type": "stream",
          "name": "stdout",
          "text": [
            "a    10\n",
            "b    20\n",
            "c    30\n",
            "d    40\n",
            "e    50\n",
            "f    60\n",
            "dtype: int64\n"
          ]
        }
      ]
    },
    {
      "cell_type": "code",
      "source": [
        "#data = pd.Series([10,20,30,40,50,60], index=['a','b','c','d','e','f'])\n",
        "\n",
        "data={'a':10,'b':20,'c':30}\n",
        "series=pd.Series(data)\n",
        "print(series)"
      ],
      "metadata": {
        "colab": {
          "base_uri": "https://localhost:8080/"
        },
        "id": "S9kkFeetJ4qn",
        "outputId": "3fe95f98-c03f-4f7e-e92b-b9be15dc4a6d"
      },
      "execution_count": null,
      "outputs": [
        {
          "output_type": "stream",
          "name": "stdout",
          "text": [
            "a    10\n",
            "b    20\n",
            "c    30\n",
            "dtype: int64\n"
          ]
        }
      ]
    },
    {
      "cell_type": "code",
      "source": [
        "print(series['b'])\n",
        "print(series[2])"
      ],
      "metadata": {
        "colab": {
          "base_uri": "https://localhost:8080/"
        },
        "id": "kI_qVHsMKTzR",
        "outputId": "6b2a58c8-ac44-45e1-e602-3badb8fe29c9"
      },
      "execution_count": null,
      "outputs": [
        {
          "output_type": "stream",
          "name": "stdout",
          "text": [
            "20\n",
            "30\n"
          ]
        }
      ]
    },
    {
      "cell_type": "code",
      "source": [
        "series1=pd.Series([1,2,3,4])\n",
        "series2=pd.Series([10,20,30,40])\n",
        "\n",
        "result= series1 * series2\n",
        "print(result)"
      ],
      "metadata": {
        "colab": {
          "base_uri": "https://localhost:8080/"
        },
        "id": "jYEVbE94Kk3G",
        "outputId": "f821f12b-989b-4d76-ee78-a70ff9eaaeb0"
      },
      "execution_count": null,
      "outputs": [
        {
          "output_type": "stream",
          "name": "stdout",
          "text": [
            "0     10\n",
            "1     40\n",
            "2     90\n",
            "3    160\n",
            "dtype: int64\n"
          ]
        }
      ]
    },
    {
      "cell_type": "markdown",
      "source": [
        "**Data Frames**"
      ],
      "metadata": {
        "id": "QSOpXiFYJMYb"
      }
    },
    {
      "cell_type": "code",
      "source": [
        "data= {\n",
        "    'Name':[\"Alice\",\"Alex\",\"Bob\"],\n",
        "    \"Age\":[25,35,40],\n",
        "    'City':[\"Los Ageles\",'Dublin','Spain']\n",
        "}\n",
        "\n",
        "df=pd.DataFrame(data)\n",
        "\n",
        "print(df)"
      ],
      "metadata": {
        "colab": {
          "base_uri": "https://localhost:8080/"
        },
        "id": "n6z_OW5gJPlI",
        "outputId": "b3c76f55-8585-4730-ad9d-2dffe7a53774"
      },
      "execution_count": null,
      "outputs": [
        {
          "output_type": "stream",
          "name": "stdout",
          "text": [
            "    Name  Age        City\n",
            "0  Alice   25  Los Ageles\n",
            "1   Alex   35      Dublin\n",
            "2    Bob   40       Spain\n"
          ]
        }
      ]
    },
    {
      "cell_type": "code",
      "source": [
        "#Access a specific column\n",
        "\n",
        "names= df[\"Name\"]\n",
        "\n",
        "print(names)\n",
        "\n",
        "#Access a specific row\n",
        "\n",
        "row = df.loc[2]\n",
        "print(row)"
      ],
      "metadata": {
        "colab": {
          "base_uri": "https://localhost:8080/"
        },
        "id": "u3f9iznCLFW5",
        "outputId": "d717586b-1d85-4ff1-bc41-85f522790fc1"
      },
      "execution_count": null,
      "outputs": [
        {
          "output_type": "stream",
          "name": "stdout",
          "text": [
            "0    Alice\n",
            "1     Alex\n",
            "2      Bob\n",
            "Name: Name, dtype: object\n",
            "Name      Bob\n",
            "Age        40\n",
            "City    Spain\n",
            "Name: 2, dtype: object\n"
          ]
        }
      ]
    },
    {
      "cell_type": "code",
      "source": [
        "#Filter data\n",
        "\n",
        "adults= df[df['Age']>=30]\n",
        "\n",
        "print(adults)"
      ],
      "metadata": {
        "colab": {
          "base_uri": "https://localhost:8080/"
        },
        "id": "8AltrLmQLf65",
        "outputId": "ef03ea26-4ef1-4806-93d3-5c15f9dbd617"
      },
      "execution_count": null,
      "outputs": [
        {
          "output_type": "stream",
          "name": "stdout",
          "text": [
            "   Name  Age    City\n",
            "1  Alex   35  Dublin\n",
            "2   Bob   40   Spain\n"
          ]
        }
      ]
    },
    {
      "cell_type": "code",
      "source": [
        "#Add a new column\n",
        "\n",
        "\n",
        "df['Salary']=[5000,4000,6000]\n",
        "print(df)"
      ],
      "metadata": {
        "colab": {
          "base_uri": "https://localhost:8080/"
        },
        "id": "Ve-gRS27LvQ8",
        "outputId": "a3a26c6d-003e-40e5-c7f5-faf091409a05"
      },
      "execution_count": null,
      "outputs": [
        {
          "output_type": "stream",
          "name": "stdout",
          "text": [
            "    Name  Age        City  Salary\n",
            "0  Alice   25  Los Ageles    5000\n",
            "1   Alex   35      Dublin    4000\n",
            "2    Bob   40       Spain    6000\n"
          ]
        }
      ]
    },
    {
      "cell_type": "markdown",
      "source": [
        "**Loading Data**\n",
        "\n",
        "CSV, Excel, DB like SQL...."
      ],
      "metadata": {
        "id": "6RAOhlIG2_Eb"
      }
    },
    {
      "cell_type": "markdown",
      "source": [
        "Loading Data from a CSV File"
      ],
      "metadata": {
        "id": "SBJzTWdt3EwG"
      }
    },
    {
      "cell_type": "code",
      "source": [
        "import pandas as pd\n",
        "\n",
        "file_path=\"employees.csv\"\n",
        "\n",
        "df=pd.read_csv(file_path)\n",
        "\n",
        "#display the loaded data\n",
        "\n",
        "print(df.head())"
      ],
      "metadata": {
        "colab": {
          "base_uri": "https://localhost:8080/"
        },
        "id": "UeRL8QYW3RAD",
        "outputId": "5d6c9d95-4113-494f-c86c-2400b630f910"
      },
      "execution_count": null,
      "outputs": [
        {
          "output_type": "stream",
          "name": "stdout",
          "text": [
            "   EMPLOYEE_ID FIRST_NAME  LAST_NAME     EMAIL  PHONE_NUMBER  HIRE_DATE  \\\n",
            "0          198     Donald   OConnell  DOCONNEL  650.507.9833  21-Jun-07   \n",
            "1          199    Douglas      Grant    DGRANT  650.507.9844  13-Jan-08   \n",
            "2          200   Jennifer     Whalen   JWHALEN  515.123.4444  17-Sep-03   \n",
            "3          201    Michael  Hartstein  MHARTSTE  515.123.5555  17-Feb-04   \n",
            "4          202        Pat        Fay      PFAY  603.123.6666  17-Aug-05   \n",
            "\n",
            "     JOB_ID  SALARY COMMISSION_PCT MANAGER_ID  DEPARTMENT_ID  \n",
            "0  SH_CLERK    2600             -         124             50  \n",
            "1  SH_CLERK    2600             -         124             50  \n",
            "2   AD_ASST    4400             -         101             10  \n",
            "3    MK_MAN   13000             -         100             20  \n",
            "4    MK_REP    6000             -         201             20  \n"
          ]
        }
      ]
    },
    {
      "cell_type": "code",
      "source": [
        "#Loading without headers\n",
        "\n",
        "import pandas as pd\n",
        "\n",
        "file_path=\"employees v2.csv\"\n",
        "\n",
        "df2=pd.read_csv(file_path, header=None, names=['EMPLOYEE_ID','FIRST_NAME','LAST_NAME', 'EMAIL','PHONE_NUMBER','HIRE_DATE','JOB_ID','SALARY', 'COMMISSION_PCT', 'MANAGER_ID'  ,'DEPARTMENT_ID' ])\n",
        "\n",
        "#display the loaded data\n",
        "\n",
        "print(df2.head())"
      ],
      "metadata": {
        "colab": {
          "base_uri": "https://localhost:8080/"
        },
        "id": "qAz195aU4FtD",
        "outputId": "5ebc271b-a732-44cb-9c77-363e49057457"
      },
      "execution_count": null,
      "outputs": [
        {
          "output_type": "stream",
          "name": "stdout",
          "text": [
            "   EMPLOYEE_ID FIRST_NAME  LAST_NAME     EMAIL  PHONE_NUMBER  HIRE_DATE  \\\n",
            "0          198     Donald   OConnell  DOCONNEL  650.507.9833  21-Jun-07   \n",
            "1          199    Douglas      Grant    DGRANT  650.507.9844  13-Jan-08   \n",
            "2          200   Jennifer     Whalen   JWHALEN  515.123.4444  17-Sep-03   \n",
            "3          201    Michael  Hartstein  MHARTSTE  515.123.5555  17-Feb-04   \n",
            "4          202        Pat        Fay      PFAY  603.123.6666  17-Aug-05   \n",
            "\n",
            "     JOB_ID  SALARY COMMISSION_PCT MANAGER_ID  DEPARTMENT_ID  \n",
            "0  SH_CLERK    2600             -         124             50  \n",
            "1  SH_CLERK    2600             -         124             50  \n",
            "2   AD_ASST    4400             -         101             10  \n",
            "3    MK_MAN   13000             -         100             20  \n",
            "4    MK_REP    6000             -         201             20  \n"
          ]
        }
      ]
    },
    {
      "cell_type": "markdown",
      "source": [
        "Extracting Columns"
      ],
      "metadata": {
        "id": "ltAjeila7Etn"
      }
    },
    {
      "cell_type": "code",
      "source": [
        "id= df2['EMPLOYEE_ID']\n",
        "\n",
        "print(id)"
      ],
      "metadata": {
        "colab": {
          "base_uri": "https://localhost:8080/"
        },
        "id": "eUuKO2zo3T2c",
        "outputId": "b0e8fbc9-8fa9-4d7d-dd49-b3ea2183c330"
      },
      "execution_count": null,
      "outputs": [
        {
          "output_type": "stream",
          "name": "stdout",
          "text": [
            "0     198\n",
            "1     199\n",
            "2     200\n",
            "3     201\n",
            "4     202\n",
            "5     203\n",
            "6     204\n",
            "7     205\n",
            "8     206\n",
            "9     100\n",
            "10    101\n",
            "11    102\n",
            "12    103\n",
            "13    104\n",
            "14    105\n",
            "15    106\n",
            "16    107\n",
            "17    108\n",
            "18    109\n",
            "19    110\n",
            "20    111\n",
            "21    112\n",
            "22    113\n",
            "23    114\n",
            "24    115\n",
            "25    116\n",
            "26    117\n",
            "27    118\n",
            "28    119\n",
            "29    120\n",
            "30    121\n",
            "31    122\n",
            "32    123\n",
            "33    124\n",
            "34    125\n",
            "35    126\n",
            "36    127\n",
            "37    128\n",
            "38    129\n",
            "39    130\n",
            "40    131\n",
            "41    132\n",
            "42    133\n",
            "43    134\n",
            "44    135\n",
            "45    136\n",
            "46    137\n",
            "47    138\n",
            "48    139\n",
            "49    140\n",
            "Name: EMPLOYEE_ID, dtype: int64\n"
          ]
        }
      ]
    },
    {
      "cell_type": "code",
      "source": [
        "df2.columns"
      ],
      "metadata": {
        "colab": {
          "base_uri": "https://localhost:8080/"
        },
        "id": "ljJ4wT-46Wuw",
        "outputId": "039fea8a-492b-44a5-f46b-ccd30e08e90d"
      },
      "execution_count": null,
      "outputs": [
        {
          "output_type": "execute_result",
          "data": {
            "text/plain": [
              "Index(['EMPLOYEE_ID', 'FIRST_NAME', 'LAST_NAME', 'EMAIL', 'PHONE_NUMBER',\n",
              "       'HIRE_DATE', 'JOB_ID', 'SALARY', 'COMMISSION_PCT', 'MANAGER_ID',\n",
              "       'DEPARTMENT_ID'],\n",
              "      dtype='object')"
            ]
          },
          "metadata": {},
          "execution_count": 5
        }
      ]
    },
    {
      "cell_type": "code",
      "source": [
        "name_id_col=['EMPLOYEE_ID', 'FIRST_NAME', 'LAST_NAME']\n",
        "\n",
        "result_df=df2[name_id_col]\n",
        "print(result_df)"
      ],
      "metadata": {
        "colab": {
          "base_uri": "https://localhost:8080/"
        },
        "id": "QhgyC3W66aY_",
        "outputId": "19e1a975-2b45-4025-cb35-7e205b2c4d49"
      },
      "execution_count": null,
      "outputs": [
        {
          "output_type": "stream",
          "name": "stdout",
          "text": [
            "    EMPLOYEE_ID   FIRST_NAME    LAST_NAME\n",
            "0           198       Donald     OConnell\n",
            "1           199      Douglas        Grant\n",
            "2           200     Jennifer       Whalen\n",
            "3           201      Michael    Hartstein\n",
            "4           202          Pat          Fay\n",
            "5           203        Susan       Mavris\n",
            "6           204      Hermann         Baer\n",
            "7           205      Shelley      Higgins\n",
            "8           206      William        Gietz\n",
            "9           100       Steven         King\n",
            "10          101        Neena      Kochhar\n",
            "11          102          Lex      De Haan\n",
            "12          103    Alexander       Hunold\n",
            "13          104        Bruce        Ernst\n",
            "14          105        David       Austin\n",
            "15          106        Valli    Pataballa\n",
            "16          107        Diana      Lorentz\n",
            "17          108        Nancy    Greenberg\n",
            "18          109       Daniel       Faviet\n",
            "19          110         John         Chen\n",
            "20          111       Ismael      Sciarra\n",
            "21          112  Jose Manuel        Urman\n",
            "22          113         Luis         Popp\n",
            "23          114          Den     Raphaely\n",
            "24          115    Alexander         Khoo\n",
            "25          116       Shelli        Baida\n",
            "26          117        Sigal       Tobias\n",
            "27          118          Guy       Himuro\n",
            "28          119        Karen   Colmenares\n",
            "29          120      Matthew        Weiss\n",
            "30          121         Adam        Fripp\n",
            "31          122        Payam     Kaufling\n",
            "32          123       Shanta      Vollman\n",
            "33          124        Kevin      Mourgos\n",
            "34          125        Julia        Nayer\n",
            "35          126        Irene  Mikkilineni\n",
            "36          127        James       Landry\n",
            "37          128       Steven       Markle\n",
            "38          129        Laura       Bissot\n",
            "39          130        Mozhe     Atkinson\n",
            "40          131        James       Marlow\n",
            "41          132           TJ        Olson\n",
            "42          133        Jason       Mallin\n",
            "43          134      Michael       Rogers\n",
            "44          135           Ki          Gee\n",
            "45          136        Hazel   Philtanker\n",
            "46          137       Renske       Ladwig\n",
            "47          138      Stephen       Stiles\n",
            "48          139         John          Seo\n",
            "49          140       Joshua        Patel\n"
          ]
        }
      ]
    },
    {
      "cell_type": "markdown",
      "source": [
        "Extracting Rows"
      ],
      "metadata": {
        "id": "DiGiwpjM7KjP"
      }
    },
    {
      "cell_type": "code",
      "source": [
        "row_df=df2.loc[1]\n",
        "\n",
        "print(row_df)"
      ],
      "metadata": {
        "colab": {
          "base_uri": "https://localhost:8080/"
        },
        "id": "4uC3n9Xj7Ooy",
        "outputId": "9c345bcf-3392-4897-cb1f-76c812787d52"
      },
      "execution_count": null,
      "outputs": [
        {
          "output_type": "stream",
          "name": "stdout",
          "text": [
            "EMPLOYEE_ID                199\n",
            "FIRST_NAME             Douglas\n",
            "LAST_NAME                Grant\n",
            "EMAIL                   DGRANT\n",
            "PHONE_NUMBER      650.507.9844\n",
            "HIRE_DATE            13-Jan-08\n",
            "JOB_ID                SH_CLERK\n",
            "SALARY                    2600\n",
            "COMMISSION_PCT              - \n",
            "MANAGER_ID                 124\n",
            "DEPARTMENT_ID               50\n",
            "Name: 1, dtype: object\n"
          ]
        }
      ]
    },
    {
      "cell_type": "markdown",
      "source": [
        "Extract multiple rows"
      ],
      "metadata": {
        "id": "G4jyq9OU7che"
      }
    },
    {
      "cell_type": "code",
      "source": [
        "row_1_and_3 = df2.loc[[1,3]]\n",
        "\n",
        "print(row_1_and_3)"
      ],
      "metadata": {
        "colab": {
          "base_uri": "https://localhost:8080/"
        },
        "id": "zfWU0bcp7fze",
        "outputId": "ce72f16d-6e6a-445c-c96c-428f35fb0e2f"
      },
      "execution_count": null,
      "outputs": [
        {
          "output_type": "stream",
          "name": "stdout",
          "text": [
            "   EMPLOYEE_ID FIRST_NAME  LAST_NAME     EMAIL  PHONE_NUMBER  HIRE_DATE  \\\n",
            "1          199    Douglas      Grant    DGRANT  650.507.9844  13-Jan-08   \n",
            "3          201    Michael  Hartstein  MHARTSTE  515.123.5555  17-Feb-04   \n",
            "\n",
            "     JOB_ID  SALARY COMMISSION_PCT MANAGER_ID  DEPARTMENT_ID  \n",
            "1  SH_CLERK    2600             -         124             50  \n",
            "3    MK_MAN   13000             -         100             20  \n"
          ]
        }
      ]
    },
    {
      "cell_type": "markdown",
      "source": [
        "Filtering Data"
      ],
      "metadata": {
        "id": "FY30eBqE76AV"
      }
    },
    {
      "cell_type": "code",
      "source": [
        "#Filter data where salary is greater than 6000\n",
        "\n",
        "\n",
        "salary_abv =df2[df2['SALARY']>10000]\n",
        "\n",
        "print(salary_abv)"
      ],
      "metadata": {
        "colab": {
          "base_uri": "https://localhost:8080/"
        },
        "id": "qK4O9YWU79kO",
        "outputId": "72cc886f-7d4c-4440-a36a-4afeb9a5d3bb"
      },
      "execution_count": null,
      "outputs": [
        {
          "output_type": "stream",
          "name": "stdout",
          "text": [
            "    EMPLOYEE_ID FIRST_NAME  LAST_NAME     EMAIL  PHONE_NUMBER  HIRE_DATE  \\\n",
            "3           201    Michael  Hartstein  MHARTSTE  515.123.5555  17-Feb-04   \n",
            "7           205    Shelley    Higgins  SHIGGINS  515.123.8080   7-Jun-02   \n",
            "9           100     Steven       King     SKING  515.123.4567  17-Jun-03   \n",
            "10          101      Neena    Kochhar  NKOCHHAR  515.123.4568  21-Sep-05   \n",
            "11          102        Lex    De Haan   LDEHAAN  515.123.4569  13-Jan-01   \n",
            "17          108      Nancy  Greenberg  NGREENBE  515.124.4569  17-Aug-02   \n",
            "23          114        Den   Raphaely  DRAPHEAL  515.127.4561   7-Dec-02   \n",
            "\n",
            "     JOB_ID  SALARY COMMISSION_PCT MANAGER_ID  DEPARTMENT_ID  \n",
            "3    MK_MAN   13000             -         100             20  \n",
            "7    AC_MGR   12008             -         101            110  \n",
            "9   AD_PRES   24000             -          -              90  \n",
            "10    AD_VP   17000             -         100             90  \n",
            "11    AD_VP   17000             -         100             90  \n",
            "17   FI_MGR   12008             -         101            100  \n",
            "23   PU_MAN   11000             -         100             30  \n"
          ]
        }
      ]
    },
    {
      "cell_type": "markdown",
      "source": [
        "Descriptive Statistics"
      ],
      "metadata": {
        "id": "m-B_Fzzx8oNY"
      }
    },
    {
      "cell_type": "code",
      "source": [
        "mean_sal =df2['SALARY'].mean()\n",
        "\n",
        "\n",
        "mean_man_id = df2['DEPARTMENT_ID'].median()\n",
        "print(f\"Mean Salary:{mean_sal}, Median Manager id:{mean_man_id}\")\n",
        "\n",
        "\n"
      ],
      "metadata": {
        "colab": {
          "base_uri": "https://localhost:8080/"
        },
        "id": "_GkL8UoD8sKx",
        "outputId": "859507c6-fe6e-4515-a048-04bd2b7b122c"
      },
      "execution_count": null,
      "outputs": [
        {
          "output_type": "stream",
          "name": "stdout",
          "text": [
            "Mean Salary:6182.32, Median Manager id:50.0\n"
          ]
        }
      ]
    },
    {
      "cell_type": "code",
      "source": [
        "df.dtypes"
      ],
      "metadata": {
        "colab": {
          "base_uri": "https://localhost:8080/"
        },
        "id": "xSovB_649wg1",
        "outputId": "fd05cbc6-f149-40c3-b9f6-861ce75ac35f"
      },
      "execution_count": null,
      "outputs": [
        {
          "output_type": "execute_result",
          "data": {
            "text/plain": [
              "EMPLOYEE_ID        int64\n",
              "FIRST_NAME        object\n",
              "LAST_NAME         object\n",
              "EMAIL             object\n",
              "PHONE_NUMBER      object\n",
              "HIRE_DATE         object\n",
              "JOB_ID            object\n",
              "SALARY             int64\n",
              "COMMISSION_PCT    object\n",
              "MANAGER_ID        object\n",
              "DEPARTMENT_ID      int64\n",
              "dtype: object"
            ]
          },
          "metadata": {},
          "execution_count": 27
        }
      ]
    },
    {
      "cell_type": "markdown",
      "source": [
        "Sorting Data"
      ],
      "metadata": {
        "id": "v8jeVZKh97M6"
      }
    },
    {
      "cell_type": "code",
      "source": [
        "sorted_df = df2.sort_values(by='FIRST_NAME')\n",
        "\n",
        "print(sorted_df)"
      ],
      "metadata": {
        "colab": {
          "base_uri": "https://localhost:8080/"
        },
        "id": "N763oP1N96Tr",
        "outputId": "9ec6c6f9-747d-43a2-da77-6dcfec57da4a"
      },
      "execution_count": null,
      "outputs": [
        {
          "output_type": "stream",
          "name": "stdout",
          "text": [
            "    EMPLOYEE_ID   FIRST_NAME    LAST_NAME     EMAIL  PHONE_NUMBER  HIRE_DATE  \\\n",
            "30          121         Adam        Fripp    AFRIPP  650.123.2234  10-Apr-05   \n",
            "24          115    Alexander         Khoo     AKHOO  515.127.4562  18-May-03   \n",
            "12          103    Alexander       Hunold   AHUNOLD  590.423.4567   3-Jan-06   \n",
            "13          104        Bruce        Ernst    BERNST  590.423.4568  21-May-07   \n",
            "18          109       Daniel       Faviet   DFAVIET  515.124.4169  16-Aug-02   \n",
            "14          105        David       Austin   DAUSTIN  590.423.4569  25-Jun-05   \n",
            "23          114          Den     Raphaely  DRAPHEAL  515.127.4561   7-Dec-02   \n",
            "16          107        Diana      Lorentz  DLORENTZ  590.423.5567   7-Feb-07   \n",
            "0           198       Donald     OConnell  DOCONNEL  650.507.9833  21-Jun-07   \n",
            "1           199      Douglas        Grant    DGRANT  650.507.9844  13-Jan-08   \n",
            "27          118          Guy       Himuro   GHIMURO  515.127.4565  15-Nov-06   \n",
            "45          136        Hazel   Philtanker  HPHILTAN  650.127.1634   6-Feb-08   \n",
            "6           204      Hermann         Baer     HBAER  515.123.8888   7-Jun-02   \n",
            "35          126        Irene  Mikkilineni  IMIKKILI  650.124.1224  28-Sep-06   \n",
            "20          111       Ismael      Sciarra  ISCIARRA  515.124.4369  30-Sep-05   \n",
            "40          131        James       Marlow   JAMRLOW  650.124.7234  16-Feb-05   \n",
            "36          127        James       Landry   JLANDRY  650.124.1334  14-Jan-07   \n",
            "42          133        Jason       Mallin   JMALLIN  650.127.1934  14-Jun-04   \n",
            "2           200     Jennifer       Whalen   JWHALEN  515.123.4444  17-Sep-03   \n",
            "48          139         John          Seo      JSEO  650.121.2019  12-Feb-06   \n",
            "19          110         John         Chen     JCHEN  515.124.4269  28-Sep-05   \n",
            "21          112  Jose Manuel        Urman   JMURMAN  515.124.4469   7-Mar-06   \n",
            "49          140       Joshua        Patel    JPATEL  650.121.1834   6-Apr-06   \n",
            "34          125        Julia        Nayer    JNAYER  650.124.1214  16-Jul-05   \n",
            "28          119        Karen   Colmenares  KCOLMENA  515.127.4566  10-Aug-07   \n",
            "33          124        Kevin      Mourgos  KMOURGOS  650.123.5234  16-Nov-07   \n",
            "44          135           Ki          Gee      KGEE  650.127.1734  12-Dec-07   \n",
            "38          129        Laura       Bissot   LBISSOT  650.124.5234  20-Aug-05   \n",
            "11          102          Lex      De Haan   LDEHAAN  515.123.4569  13-Jan-01   \n",
            "22          113         Luis         Popp     LPOPP  515.124.4567   7-Dec-07   \n",
            "29          120      Matthew        Weiss    MWEISS  650.123.1234  18-Jul-04   \n",
            "3           201      Michael    Hartstein  MHARTSTE  515.123.5555  17-Feb-04   \n",
            "43          134      Michael       Rogers   MROGERS  650.127.1834  26-Aug-06   \n",
            "39          130        Mozhe     Atkinson  MATKINSO  650.124.6234  30-Oct-05   \n",
            "17          108        Nancy    Greenberg  NGREENBE  515.124.4569  17-Aug-02   \n",
            "10          101        Neena      Kochhar  NKOCHHAR  515.123.4568  21-Sep-05   \n",
            "4           202          Pat          Fay      PFAY  603.123.6666  17-Aug-05   \n",
            "31          122        Payam     Kaufling  PKAUFLIN  650.123.3234   1-May-03   \n",
            "46          137       Renske       Ladwig   RLADWIG  650.121.1234  14-Jul-03   \n",
            "32          123       Shanta      Vollman  SVOLLMAN  650.123.4234  10-Oct-05   \n",
            "7           205      Shelley      Higgins  SHIGGINS  515.123.8080   7-Jun-02   \n",
            "25          116       Shelli        Baida    SBAIDA  515.127.4563  24-Dec-05   \n",
            "26          117        Sigal       Tobias   STOBIAS  515.127.4564  24-Jul-05   \n",
            "47          138      Stephen       Stiles   SSTILES  650.121.2034  26-Oct-05   \n",
            "9           100       Steven         King     SKING  515.123.4567  17-Jun-03   \n",
            "37          128       Steven       Markle   SMARKLE  650.124.1434   8-Mar-08   \n",
            "5           203        Susan       Mavris   SMAVRIS  515.123.7777   7-Jun-02   \n",
            "41          132           TJ        Olson   TJOLSON  650.124.8234  10-Apr-07   \n",
            "15          106        Valli    Pataballa  VPATABAL  590.423.4560   5-Feb-06   \n",
            "8           206      William        Gietz    WGIETZ  515.123.8181   7-Jun-02   \n",
            "\n",
            "        JOB_ID  SALARY COMMISSION_PCT MANAGER_ID  DEPARTMENT_ID  \n",
            "30      ST_MAN    8200             -         100             50  \n",
            "24    PU_CLERK    3100             -         114             30  \n",
            "12     IT_PROG    9000             -         102             60  \n",
            "13     IT_PROG    6000             -         103             60  \n",
            "18  FI_ACCOUNT    9000             -         108            100  \n",
            "14     IT_PROG    4800             -         103             60  \n",
            "23      PU_MAN   11000             -         100             30  \n",
            "16     IT_PROG    4200             -         103             60  \n",
            "0     SH_CLERK    2600             -         124             50  \n",
            "1     SH_CLERK    2600             -         124             50  \n",
            "27    PU_CLERK    2600             -         114             30  \n",
            "45    ST_CLERK    2200             -         122             50  \n",
            "6       PR_REP   10000             -         101             70  \n",
            "35    ST_CLERK    2700             -         120             50  \n",
            "20  FI_ACCOUNT    7700             -         108            100  \n",
            "40    ST_CLERK    2500             -         121             50  \n",
            "36    ST_CLERK    2400             -         120             50  \n",
            "42    ST_CLERK    3300             -         122             50  \n",
            "2      AD_ASST    4400             -         101             10  \n",
            "48    ST_CLERK    2700             -         123             50  \n",
            "19  FI_ACCOUNT    8200             -         108            100  \n",
            "21  FI_ACCOUNT    7800             -         108            100  \n",
            "49    ST_CLERK    2500             -         123             50  \n",
            "34    ST_CLERK    3200             -         120             50  \n",
            "28    PU_CLERK    2500             -         114             30  \n",
            "33      ST_MAN    5800             -         100             50  \n",
            "44    ST_CLERK    2400             -         122             50  \n",
            "38    ST_CLERK    3300             -         121             50  \n",
            "11       AD_VP   17000             -         100             90  \n",
            "22  FI_ACCOUNT    6900             -         108            100  \n",
            "29      ST_MAN    8000             -         100             50  \n",
            "3       MK_MAN   13000             -         100             20  \n",
            "43    ST_CLERK    2900             -         122             50  \n",
            "39    ST_CLERK    2800             -         121             50  \n",
            "17      FI_MGR   12008             -         101            100  \n",
            "10       AD_VP   17000             -         100             90  \n",
            "4       MK_REP    6000             -         201             20  \n",
            "31      ST_MAN    7900             -         100             50  \n",
            "46    ST_CLERK    3600             -         123             50  \n",
            "32      ST_MAN    6500             -         100             50  \n",
            "7       AC_MGR   12008             -         101            110  \n",
            "25    PU_CLERK    2900             -         114             30  \n",
            "26    PU_CLERK    2800             -         114             30  \n",
            "47    ST_CLERK    3200             -         123             50  \n",
            "9      AD_PRES   24000             -          -              90  \n",
            "37    ST_CLERK    2200             -         120             50  \n",
            "5       HR_REP    6500             -         101             40  \n",
            "41    ST_CLERK    2100             -         121             50  \n",
            "15     IT_PROG    4800             -         103             60  \n",
            "8   AC_ACCOUNT    8300             -         205            110  \n"
          ]
        }
      ]
    },
    {
      "cell_type": "markdown",
      "source": [
        "Grouping and Aggregation"
      ],
      "metadata": {
        "id": "YddRYIfX-bYZ"
      }
    },
    {
      "cell_type": "code",
      "source": [
        "#group data by dept id and salary\n",
        "\n",
        "\n",
        "grouped_df = df2.groupby('DEPARTMENT_ID')['SALARY'].mean()\n",
        "\n",
        "print(grouped_df)"
      ],
      "metadata": {
        "colab": {
          "base_uri": "https://localhost:8080/"
        },
        "id": "f9ljTKtL-fki",
        "outputId": "56b6c8b7-06bb-49a5-c82d-4427aa66e2f0"
      },
      "execution_count": null,
      "outputs": [
        {
          "output_type": "stream",
          "name": "stdout",
          "text": [
            "DEPARTMENT_ID\n",
            "10      4400.000000\n",
            "20      9500.000000\n",
            "30      4150.000000\n",
            "40      6500.000000\n",
            "50      3721.739130\n",
            "60      5760.000000\n",
            "70     10000.000000\n",
            "90     19333.333333\n",
            "100     8601.333333\n",
            "110    10154.000000\n",
            "Name: SALARY, dtype: float64\n"
          ]
        }
      ]
    },
    {
      "cell_type": "markdown",
      "source": [
        "Adding or Deleting Columns"
      ],
      "metadata": {
        "id": "Lehta2ZI_E3V"
      }
    },
    {
      "cell_type": "code",
      "source": [
        "df2['SALARY Higher'] =df2['SALARY']>10000\n",
        "\n",
        "print(df2)"
      ],
      "metadata": {
        "colab": {
          "base_uri": "https://localhost:8080/"
        },
        "id": "N6tWQwBA_KBC",
        "outputId": "5d5f0343-954f-4ff6-891a-e949a9ecc5e6"
      },
      "execution_count": null,
      "outputs": [
        {
          "output_type": "stream",
          "name": "stdout",
          "text": [
            "    EMPLOYEE_ID   FIRST_NAME    LAST_NAME     EMAIL  PHONE_NUMBER  HIRE_DATE  \\\n",
            "0           198       Donald     OConnell  DOCONNEL  650.507.9833  21-Jun-07   \n",
            "1           199      Douglas        Grant    DGRANT  650.507.9844  13-Jan-08   \n",
            "2           200     Jennifer       Whalen   JWHALEN  515.123.4444  17-Sep-03   \n",
            "3           201      Michael    Hartstein  MHARTSTE  515.123.5555  17-Feb-04   \n",
            "4           202          Pat          Fay      PFAY  603.123.6666  17-Aug-05   \n",
            "5           203        Susan       Mavris   SMAVRIS  515.123.7777   7-Jun-02   \n",
            "6           204      Hermann         Baer     HBAER  515.123.8888   7-Jun-02   \n",
            "7           205      Shelley      Higgins  SHIGGINS  515.123.8080   7-Jun-02   \n",
            "8           206      William        Gietz    WGIETZ  515.123.8181   7-Jun-02   \n",
            "9           100       Steven         King     SKING  515.123.4567  17-Jun-03   \n",
            "10          101        Neena      Kochhar  NKOCHHAR  515.123.4568  21-Sep-05   \n",
            "11          102          Lex      De Haan   LDEHAAN  515.123.4569  13-Jan-01   \n",
            "12          103    Alexander       Hunold   AHUNOLD  590.423.4567   3-Jan-06   \n",
            "13          104        Bruce        Ernst    BERNST  590.423.4568  21-May-07   \n",
            "14          105        David       Austin   DAUSTIN  590.423.4569  25-Jun-05   \n",
            "15          106        Valli    Pataballa  VPATABAL  590.423.4560   5-Feb-06   \n",
            "16          107        Diana      Lorentz  DLORENTZ  590.423.5567   7-Feb-07   \n",
            "17          108        Nancy    Greenberg  NGREENBE  515.124.4569  17-Aug-02   \n",
            "18          109       Daniel       Faviet   DFAVIET  515.124.4169  16-Aug-02   \n",
            "19          110         John         Chen     JCHEN  515.124.4269  28-Sep-05   \n",
            "20          111       Ismael      Sciarra  ISCIARRA  515.124.4369  30-Sep-05   \n",
            "21          112  Jose Manuel        Urman   JMURMAN  515.124.4469   7-Mar-06   \n",
            "22          113         Luis         Popp     LPOPP  515.124.4567   7-Dec-07   \n",
            "23          114          Den     Raphaely  DRAPHEAL  515.127.4561   7-Dec-02   \n",
            "24          115    Alexander         Khoo     AKHOO  515.127.4562  18-May-03   \n",
            "25          116       Shelli        Baida    SBAIDA  515.127.4563  24-Dec-05   \n",
            "26          117        Sigal       Tobias   STOBIAS  515.127.4564  24-Jul-05   \n",
            "27          118          Guy       Himuro   GHIMURO  515.127.4565  15-Nov-06   \n",
            "28          119        Karen   Colmenares  KCOLMENA  515.127.4566  10-Aug-07   \n",
            "29          120      Matthew        Weiss    MWEISS  650.123.1234  18-Jul-04   \n",
            "30          121         Adam        Fripp    AFRIPP  650.123.2234  10-Apr-05   \n",
            "31          122        Payam     Kaufling  PKAUFLIN  650.123.3234   1-May-03   \n",
            "32          123       Shanta      Vollman  SVOLLMAN  650.123.4234  10-Oct-05   \n",
            "33          124        Kevin      Mourgos  KMOURGOS  650.123.5234  16-Nov-07   \n",
            "34          125        Julia        Nayer    JNAYER  650.124.1214  16-Jul-05   \n",
            "35          126        Irene  Mikkilineni  IMIKKILI  650.124.1224  28-Sep-06   \n",
            "36          127        James       Landry   JLANDRY  650.124.1334  14-Jan-07   \n",
            "37          128       Steven       Markle   SMARKLE  650.124.1434   8-Mar-08   \n",
            "38          129        Laura       Bissot   LBISSOT  650.124.5234  20-Aug-05   \n",
            "39          130        Mozhe     Atkinson  MATKINSO  650.124.6234  30-Oct-05   \n",
            "40          131        James       Marlow   JAMRLOW  650.124.7234  16-Feb-05   \n",
            "41          132           TJ        Olson   TJOLSON  650.124.8234  10-Apr-07   \n",
            "42          133        Jason       Mallin   JMALLIN  650.127.1934  14-Jun-04   \n",
            "43          134      Michael       Rogers   MROGERS  650.127.1834  26-Aug-06   \n",
            "44          135           Ki          Gee      KGEE  650.127.1734  12-Dec-07   \n",
            "45          136        Hazel   Philtanker  HPHILTAN  650.127.1634   6-Feb-08   \n",
            "46          137       Renske       Ladwig   RLADWIG  650.121.1234  14-Jul-03   \n",
            "47          138      Stephen       Stiles   SSTILES  650.121.2034  26-Oct-05   \n",
            "48          139         John          Seo      JSEO  650.121.2019  12-Feb-06   \n",
            "49          140       Joshua        Patel    JPATEL  650.121.1834   6-Apr-06   \n",
            "\n",
            "        JOB_ID  SALARY COMMISSION_PCT MANAGER_ID  DEPARTMENT_ID  SALARY Higher  \n",
            "0     SH_CLERK    2600             -         124             50          False  \n",
            "1     SH_CLERK    2600             -         124             50          False  \n",
            "2      AD_ASST    4400             -         101             10          False  \n",
            "3       MK_MAN   13000             -         100             20           True  \n",
            "4       MK_REP    6000             -         201             20          False  \n",
            "5       HR_REP    6500             -         101             40          False  \n",
            "6       PR_REP   10000             -         101             70          False  \n",
            "7       AC_MGR   12008             -         101            110           True  \n",
            "8   AC_ACCOUNT    8300             -         205            110          False  \n",
            "9      AD_PRES   24000             -          -              90           True  \n",
            "10       AD_VP   17000             -         100             90           True  \n",
            "11       AD_VP   17000             -         100             90           True  \n",
            "12     IT_PROG    9000             -         102             60          False  \n",
            "13     IT_PROG    6000             -         103             60          False  \n",
            "14     IT_PROG    4800             -         103             60          False  \n",
            "15     IT_PROG    4800             -         103             60          False  \n",
            "16     IT_PROG    4200             -         103             60          False  \n",
            "17      FI_MGR   12008             -         101            100           True  \n",
            "18  FI_ACCOUNT    9000             -         108            100          False  \n",
            "19  FI_ACCOUNT    8200             -         108            100          False  \n",
            "20  FI_ACCOUNT    7700             -         108            100          False  \n",
            "21  FI_ACCOUNT    7800             -         108            100          False  \n",
            "22  FI_ACCOUNT    6900             -         108            100          False  \n",
            "23      PU_MAN   11000             -         100             30           True  \n",
            "24    PU_CLERK    3100             -         114             30          False  \n",
            "25    PU_CLERK    2900             -         114             30          False  \n",
            "26    PU_CLERK    2800             -         114             30          False  \n",
            "27    PU_CLERK    2600             -         114             30          False  \n",
            "28    PU_CLERK    2500             -         114             30          False  \n",
            "29      ST_MAN    8000             -         100             50          False  \n",
            "30      ST_MAN    8200             -         100             50          False  \n",
            "31      ST_MAN    7900             -         100             50          False  \n",
            "32      ST_MAN    6500             -         100             50          False  \n",
            "33      ST_MAN    5800             -         100             50          False  \n",
            "34    ST_CLERK    3200             -         120             50          False  \n",
            "35    ST_CLERK    2700             -         120             50          False  \n",
            "36    ST_CLERK    2400             -         120             50          False  \n",
            "37    ST_CLERK    2200             -         120             50          False  \n",
            "38    ST_CLERK    3300             -         121             50          False  \n",
            "39    ST_CLERK    2800             -         121             50          False  \n",
            "40    ST_CLERK    2500             -         121             50          False  \n",
            "41    ST_CLERK    2100             -         121             50          False  \n",
            "42    ST_CLERK    3300             -         122             50          False  \n",
            "43    ST_CLERK    2900             -         122             50          False  \n",
            "44    ST_CLERK    2400             -         122             50          False  \n",
            "45    ST_CLERK    2200             -         122             50          False  \n",
            "46    ST_CLERK    3600             -         123             50          False  \n",
            "47    ST_CLERK    3200             -         123             50          False  \n",
            "48    ST_CLERK    2700             -         123             50          False  \n",
            "49    ST_CLERK    2500             -         123             50          False  \n"
          ]
        }
      ]
    },
    {
      "cell_type": "markdown",
      "source": [
        "Handling Missing Data\n",
        "\n"
      ],
      "metadata": {
        "id": "qF1FKGsn_mc7"
      }
    },
    {
      "cell_type": "code",
      "source": [
        "df2.loc[1,'MANAGER_ID']= None\n",
        "\n",
        "print(df2.isnull())"
      ],
      "metadata": {
        "colab": {
          "base_uri": "https://localhost:8080/"
        },
        "id": "ECzGDhMo_suS",
        "outputId": "41ee4f72-5eb7-4cd9-a99a-cc6b58ca3074"
      },
      "execution_count": null,
      "outputs": [
        {
          "output_type": "stream",
          "name": "stdout",
          "text": [
            "    EMPLOYEE_ID  FIRST_NAME  LAST_NAME  EMAIL  PHONE_NUMBER  HIRE_DATE  \\\n",
            "0         False       False      False  False         False      False   \n",
            "1         False       False      False  False         False      False   \n",
            "2         False       False      False  False         False      False   \n",
            "3         False       False      False  False         False      False   \n",
            "4         False       False      False  False         False      False   \n",
            "5         False       False      False  False         False      False   \n",
            "6         False       False      False  False         False      False   \n",
            "7         False       False      False  False         False      False   \n",
            "8         False       False      False  False         False      False   \n",
            "9         False       False      False  False         False      False   \n",
            "10        False       False      False  False         False      False   \n",
            "11        False       False      False  False         False      False   \n",
            "12        False       False      False  False         False      False   \n",
            "13        False       False      False  False         False      False   \n",
            "14        False       False      False  False         False      False   \n",
            "15        False       False      False  False         False      False   \n",
            "16        False       False      False  False         False      False   \n",
            "17        False       False      False  False         False      False   \n",
            "18        False       False      False  False         False      False   \n",
            "19        False       False      False  False         False      False   \n",
            "20        False       False      False  False         False      False   \n",
            "21        False       False      False  False         False      False   \n",
            "22        False       False      False  False         False      False   \n",
            "23        False       False      False  False         False      False   \n",
            "24        False       False      False  False         False      False   \n",
            "25        False       False      False  False         False      False   \n",
            "26        False       False      False  False         False      False   \n",
            "27        False       False      False  False         False      False   \n",
            "28        False       False      False  False         False      False   \n",
            "29        False       False      False  False         False      False   \n",
            "30        False       False      False  False         False      False   \n",
            "31        False       False      False  False         False      False   \n",
            "32        False       False      False  False         False      False   \n",
            "33        False       False      False  False         False      False   \n",
            "34        False       False      False  False         False      False   \n",
            "35        False       False      False  False         False      False   \n",
            "36        False       False      False  False         False      False   \n",
            "37        False       False      False  False         False      False   \n",
            "38        False       False      False  False         False      False   \n",
            "39        False       False      False  False         False      False   \n",
            "40        False       False      False  False         False      False   \n",
            "41        False       False      False  False         False      False   \n",
            "42        False       False      False  False         False      False   \n",
            "43        False       False      False  False         False      False   \n",
            "44        False       False      False  False         False      False   \n",
            "45        False       False      False  False         False      False   \n",
            "46        False       False      False  False         False      False   \n",
            "47        False       False      False  False         False      False   \n",
            "48        False       False      False  False         False      False   \n",
            "49        False       False      False  False         False      False   \n",
            "\n",
            "    JOB_ID  SALARY  COMMISSION_PCT  MANAGER_ID  DEPARTMENT_ID  SALARY Higher  \n",
            "0    False   False           False       False          False          False  \n",
            "1    False   False           False        True          False          False  \n",
            "2    False   False           False       False          False          False  \n",
            "3    False   False           False       False          False          False  \n",
            "4    False   False           False       False          False          False  \n",
            "5    False   False           False       False          False          False  \n",
            "6    False   False           False       False          False          False  \n",
            "7    False   False           False       False          False          False  \n",
            "8    False   False           False       False          False          False  \n",
            "9    False   False           False       False          False          False  \n",
            "10   False   False           False       False          False          False  \n",
            "11   False   False           False       False          False          False  \n",
            "12   False   False           False       False          False          False  \n",
            "13   False   False           False       False          False          False  \n",
            "14   False   False           False       False          False          False  \n",
            "15   False   False           False       False          False          False  \n",
            "16   False   False           False       False          False          False  \n",
            "17   False   False           False       False          False          False  \n",
            "18   False   False           False       False          False          False  \n",
            "19   False   False           False       False          False          False  \n",
            "20   False   False           False       False          False          False  \n",
            "21   False   False           False       False          False          False  \n",
            "22   False   False           False       False          False          False  \n",
            "23   False   False           False       False          False          False  \n",
            "24   False   False           False       False          False          False  \n",
            "25   False   False           False       False          False          False  \n",
            "26   False   False           False       False          False          False  \n",
            "27   False   False           False       False          False          False  \n",
            "28   False   False           False       False          False          False  \n",
            "29   False   False           False       False          False          False  \n",
            "30   False   False           False       False          False          False  \n",
            "31   False   False           False       False          False          False  \n",
            "32   False   False           False       False          False          False  \n",
            "33   False   False           False       False          False          False  \n",
            "34   False   False           False       False          False          False  \n",
            "35   False   False           False       False          False          False  \n",
            "36   False   False           False       False          False          False  \n",
            "37   False   False           False       False          False          False  \n",
            "38   False   False           False       False          False          False  \n",
            "39   False   False           False       False          False          False  \n",
            "40   False   False           False       False          False          False  \n",
            "41   False   False           False       False          False          False  \n",
            "42   False   False           False       False          False          False  \n",
            "43   False   False           False       False          False          False  \n",
            "44   False   False           False       False          False          False  \n",
            "45   False   False           False       False          False          False  \n",
            "46   False   False           False       False          False          False  \n",
            "47   False   False           False       False          False          False  \n",
            "48   False   False           False       False          False          False  \n",
            "49   False   False           False       False          False          False  \n"
          ]
        }
      ]
    },
    {
      "cell_type": "markdown",
      "source": [
        "Applying Functions"
      ],
      "metadata": {
        "id": "G2oFowr4gYSi"
      }
    },
    {
      "cell_type": "code",
      "source": [
        "#Define a function on salary category\n",
        "\n",
        "def sal_cat(sal):\n",
        "  if sal<6000:\n",
        "    return \"Beginner\"\n",
        "  elif sal < 10000:\n",
        "    return \"Intermediate\"\n",
        "  else:\n",
        "    return 'Expert'\n",
        "\n",
        "df2['Salary Category'] =df2['SALARY'].apply(sal_cat)\n",
        "\n",
        "print(df2)"
      ],
      "metadata": {
        "colab": {
          "base_uri": "https://localhost:8080/"
        },
        "id": "Ne-oPSxqgOBV",
        "outputId": "084713ac-dbf5-4739-af53-40aa7ab801b2"
      },
      "execution_count": null,
      "outputs": [
        {
          "output_type": "stream",
          "name": "stdout",
          "text": [
            "    EMPLOYEE_ID   FIRST_NAME    LAST_NAME     EMAIL  PHONE_NUMBER  HIRE_DATE  \\\n",
            "0           198       Donald     OConnell  DOCONNEL  650.507.9833  21-Jun-07   \n",
            "1           199      Douglas        Grant    DGRANT  650.507.9844  13-Jan-08   \n",
            "2           200     Jennifer       Whalen   JWHALEN  515.123.4444  17-Sep-03   \n",
            "3           201      Michael    Hartstein  MHARTSTE  515.123.5555  17-Feb-04   \n",
            "4           202          Pat          Fay      PFAY  603.123.6666  17-Aug-05   \n",
            "5           203        Susan       Mavris   SMAVRIS  515.123.7777   7-Jun-02   \n",
            "6           204      Hermann         Baer     HBAER  515.123.8888   7-Jun-02   \n",
            "7           205      Shelley      Higgins  SHIGGINS  515.123.8080   7-Jun-02   \n",
            "8           206      William        Gietz    WGIETZ  515.123.8181   7-Jun-02   \n",
            "9           100       Steven         King     SKING  515.123.4567  17-Jun-03   \n",
            "10          101        Neena      Kochhar  NKOCHHAR  515.123.4568  21-Sep-05   \n",
            "11          102          Lex      De Haan   LDEHAAN  515.123.4569  13-Jan-01   \n",
            "12          103    Alexander       Hunold   AHUNOLD  590.423.4567   3-Jan-06   \n",
            "13          104        Bruce        Ernst    BERNST  590.423.4568  21-May-07   \n",
            "14          105        David       Austin   DAUSTIN  590.423.4569  25-Jun-05   \n",
            "15          106        Valli    Pataballa  VPATABAL  590.423.4560   5-Feb-06   \n",
            "16          107        Diana      Lorentz  DLORENTZ  590.423.5567   7-Feb-07   \n",
            "17          108        Nancy    Greenberg  NGREENBE  515.124.4569  17-Aug-02   \n",
            "18          109       Daniel       Faviet   DFAVIET  515.124.4169  16-Aug-02   \n",
            "19          110         John         Chen     JCHEN  515.124.4269  28-Sep-05   \n",
            "20          111       Ismael      Sciarra  ISCIARRA  515.124.4369  30-Sep-05   \n",
            "21          112  Jose Manuel        Urman   JMURMAN  515.124.4469   7-Mar-06   \n",
            "22          113         Luis         Popp     LPOPP  515.124.4567   7-Dec-07   \n",
            "23          114          Den     Raphaely  DRAPHEAL  515.127.4561   7-Dec-02   \n",
            "24          115    Alexander         Khoo     AKHOO  515.127.4562  18-May-03   \n",
            "25          116       Shelli        Baida    SBAIDA  515.127.4563  24-Dec-05   \n",
            "26          117        Sigal       Tobias   STOBIAS  515.127.4564  24-Jul-05   \n",
            "27          118          Guy       Himuro   GHIMURO  515.127.4565  15-Nov-06   \n",
            "28          119        Karen   Colmenares  KCOLMENA  515.127.4566  10-Aug-07   \n",
            "29          120      Matthew        Weiss    MWEISS  650.123.1234  18-Jul-04   \n",
            "30          121         Adam        Fripp    AFRIPP  650.123.2234  10-Apr-05   \n",
            "31          122        Payam     Kaufling  PKAUFLIN  650.123.3234   1-May-03   \n",
            "32          123       Shanta      Vollman  SVOLLMAN  650.123.4234  10-Oct-05   \n",
            "33          124        Kevin      Mourgos  KMOURGOS  650.123.5234  16-Nov-07   \n",
            "34          125        Julia        Nayer    JNAYER  650.124.1214  16-Jul-05   \n",
            "35          126        Irene  Mikkilineni  IMIKKILI  650.124.1224  28-Sep-06   \n",
            "36          127        James       Landry   JLANDRY  650.124.1334  14-Jan-07   \n",
            "37          128       Steven       Markle   SMARKLE  650.124.1434   8-Mar-08   \n",
            "38          129        Laura       Bissot   LBISSOT  650.124.5234  20-Aug-05   \n",
            "39          130        Mozhe     Atkinson  MATKINSO  650.124.6234  30-Oct-05   \n",
            "40          131        James       Marlow   JAMRLOW  650.124.7234  16-Feb-05   \n",
            "41          132           TJ        Olson   TJOLSON  650.124.8234  10-Apr-07   \n",
            "42          133        Jason       Mallin   JMALLIN  650.127.1934  14-Jun-04   \n",
            "43          134      Michael       Rogers   MROGERS  650.127.1834  26-Aug-06   \n",
            "44          135           Ki          Gee      KGEE  650.127.1734  12-Dec-07   \n",
            "45          136        Hazel   Philtanker  HPHILTAN  650.127.1634   6-Feb-08   \n",
            "46          137       Renske       Ladwig   RLADWIG  650.121.1234  14-Jul-03   \n",
            "47          138      Stephen       Stiles   SSTILES  650.121.2034  26-Oct-05   \n",
            "48          139         John          Seo      JSEO  650.121.2019  12-Feb-06   \n",
            "49          140       Joshua        Patel    JPATEL  650.121.1834   6-Apr-06   \n",
            "\n",
            "        JOB_ID  SALARY COMMISSION_PCT MANAGER_ID  DEPARTMENT_ID  \\\n",
            "0     SH_CLERK    2600             -         124             50   \n",
            "1     SH_CLERK    2600             -        None             50   \n",
            "2      AD_ASST    4400             -         101             10   \n",
            "3       MK_MAN   13000             -         100             20   \n",
            "4       MK_REP    6000             -         201             20   \n",
            "5       HR_REP    6500             -         101             40   \n",
            "6       PR_REP   10000             -         101             70   \n",
            "7       AC_MGR   12008             -         101            110   \n",
            "8   AC_ACCOUNT    8300             -         205            110   \n",
            "9      AD_PRES   24000             -          -              90   \n",
            "10       AD_VP   17000             -         100             90   \n",
            "11       AD_VP   17000             -         100             90   \n",
            "12     IT_PROG    9000             -         102             60   \n",
            "13     IT_PROG    6000             -         103             60   \n",
            "14     IT_PROG    4800             -         103             60   \n",
            "15     IT_PROG    4800             -         103             60   \n",
            "16     IT_PROG    4200             -         103             60   \n",
            "17      FI_MGR   12008             -         101            100   \n",
            "18  FI_ACCOUNT    9000             -         108            100   \n",
            "19  FI_ACCOUNT    8200             -         108            100   \n",
            "20  FI_ACCOUNT    7700             -         108            100   \n",
            "21  FI_ACCOUNT    7800             -         108            100   \n",
            "22  FI_ACCOUNT    6900             -         108            100   \n",
            "23      PU_MAN   11000             -         100             30   \n",
            "24    PU_CLERK    3100             -         114             30   \n",
            "25    PU_CLERK    2900             -         114             30   \n",
            "26    PU_CLERK    2800             -         114             30   \n",
            "27    PU_CLERK    2600             -         114             30   \n",
            "28    PU_CLERK    2500             -         114             30   \n",
            "29      ST_MAN    8000             -         100             50   \n",
            "30      ST_MAN    8200             -         100             50   \n",
            "31      ST_MAN    7900             -         100             50   \n",
            "32      ST_MAN    6500             -         100             50   \n",
            "33      ST_MAN    5800             -         100             50   \n",
            "34    ST_CLERK    3200             -         120             50   \n",
            "35    ST_CLERK    2700             -         120             50   \n",
            "36    ST_CLERK    2400             -         120             50   \n",
            "37    ST_CLERK    2200             -         120             50   \n",
            "38    ST_CLERK    3300             -         121             50   \n",
            "39    ST_CLERK    2800             -         121             50   \n",
            "40    ST_CLERK    2500             -         121             50   \n",
            "41    ST_CLERK    2100             -         121             50   \n",
            "42    ST_CLERK    3300             -         122             50   \n",
            "43    ST_CLERK    2900             -         122             50   \n",
            "44    ST_CLERK    2400             -         122             50   \n",
            "45    ST_CLERK    2200             -         122             50   \n",
            "46    ST_CLERK    3600             -         123             50   \n",
            "47    ST_CLERK    3200             -         123             50   \n",
            "48    ST_CLERK    2700             -         123             50   \n",
            "49    ST_CLERK    2500             -         123             50   \n",
            "\n",
            "    SALARY Higher Salary Category  \n",
            "0           False        Beginner  \n",
            "1           False        Beginner  \n",
            "2           False        Beginner  \n",
            "3            True          Expert  \n",
            "4           False    Intermediate  \n",
            "5           False    Intermediate  \n",
            "6           False          Expert  \n",
            "7            True          Expert  \n",
            "8           False    Intermediate  \n",
            "9            True          Expert  \n",
            "10           True          Expert  \n",
            "11           True          Expert  \n",
            "12          False    Intermediate  \n",
            "13          False    Intermediate  \n",
            "14          False        Beginner  \n",
            "15          False        Beginner  \n",
            "16          False        Beginner  \n",
            "17           True          Expert  \n",
            "18          False    Intermediate  \n",
            "19          False    Intermediate  \n",
            "20          False    Intermediate  \n",
            "21          False    Intermediate  \n",
            "22          False    Intermediate  \n",
            "23           True          Expert  \n",
            "24          False        Beginner  \n",
            "25          False        Beginner  \n",
            "26          False        Beginner  \n",
            "27          False        Beginner  \n",
            "28          False        Beginner  \n",
            "29          False    Intermediate  \n",
            "30          False    Intermediate  \n",
            "31          False    Intermediate  \n",
            "32          False    Intermediate  \n",
            "33          False        Beginner  \n",
            "34          False        Beginner  \n",
            "35          False        Beginner  \n",
            "36          False        Beginner  \n",
            "37          False        Beginner  \n",
            "38          False        Beginner  \n",
            "39          False        Beginner  \n",
            "40          False        Beginner  \n",
            "41          False        Beginner  \n",
            "42          False        Beginner  \n",
            "43          False        Beginner  \n",
            "44          False        Beginner  \n",
            "45          False        Beginner  \n",
            "46          False        Beginner  \n",
            "47          False        Beginner  \n",
            "48          False        Beginner  \n",
            "49          False        Beginner  \n"
          ]
        }
      ]
    },
    {
      "cell_type": "code",
      "source": [
        "df2.to_csv(\"modified employee.csv\", index= False)"
      ],
      "metadata": {
        "id": "1JiiktHkhLaA"
      },
      "execution_count": null,
      "outputs": []
    },
    {
      "cell_type": "markdown",
      "source": [
        "Reading Data from Excel File"
      ],
      "metadata": {
        "id": "8BeTdAg8lT9b"
      }
    },
    {
      "cell_type": "code",
      "source": [
        "import pandas as pd\n",
        "exl_file_path=\"Sample Emp Data.xlsx\"\n",
        "\n",
        "df3 = pd.read_excel(exl_file_path)\n",
        "\n",
        "print(df3.head())"
      ],
      "metadata": {
        "colab": {
          "base_uri": "https://localhost:8080/"
        },
        "id": "6KY3qMhVlZH1",
        "outputId": "21516b82-e1b0-4f68-ec0e-35a9124c4d2e"
      },
      "execution_count": null,
      "outputs": [
        {
          "output_type": "stream",
          "name": "stdout",
          "text": [
            "     Name Joining Date        Email Address       Department  Monthly Salary  \\\n",
            "0    Mark   2021-12-31    Mark@demomail.com  Human Resources            5830   \n",
            "1   Brian   2021-12-31   Brian@demomail.com            Sales            3450   \n",
            "2    Alan   2022-01-14    Alan@demomail.com            Legal            4920   \n",
            "3    Tony   2022-01-14    Tony@demomail.com           Retail            2785   \n",
            "4  Agatha   2022-02-01  Agatha@demomail.com            Sales            3450   \n",
            "\n",
            "  Job Status  \n",
            "0  Permanent  \n",
            "1  Permanent  \n",
            "2  Permanent  \n",
            "3  Permanent  \n",
            "4  Permanent  \n"
          ]
        }
      ]
    },
    {
      "cell_type": "markdown",
      "source": [
        "Specifying Columns"
      ],
      "metadata": {
        "id": "P9wPKTmbl6Is"
      }
    },
    {
      "cell_type": "code",
      "source": [
        "col_read= ['Name','Department','Email Address']\n",
        "\n",
        "df_sel_col = pd.read_excel(exl_file_path,usecols=col_read)\n",
        "\n",
        "\n",
        "print(df_sel_col)"
      ],
      "metadata": {
        "colab": {
          "base_uri": "https://localhost:8080/"
        },
        "id": "NjHGn1HIl9Jx",
        "outputId": "f8d0dbfc-1aaf-4912-ff85-e691cf96c879"
      },
      "execution_count": null,
      "outputs": [
        {
          "output_type": "stream",
          "name": "stdout",
          "text": [
            "        Name          Email Address            Department\n",
            "0       Mark      Mark@demomail.com       Human Resources\n",
            "1      Brian     Brian@demomail.com                 Sales\n",
            "2       Alan      Alan@demomail.com                 Legal\n",
            "3       Tony      Tony@demomail.com                Retail\n",
            "4     Agatha    Agatha@demomail.com                 Sales\n",
            "5       Lana      Lana@demomail.com            Accounting\n",
            "6    Heather   Heather@demomail.com            Accounting\n",
            "7        Ben       Ben@demomail.com                 Sales\n",
            "8    Caitlyn   Caitlyn@demomail.com                Retail\n",
            "9      Gibbs     Gibbs@demomail.com                Retail\n",
            "10  Anderson  Anderson@demomail.com                 Sales\n",
            "11   Michael   Michael@demomail.com                Retail\n",
            "12     David     David@demomail.com                 Sales\n",
            "13     Jacob     Jacob@demomail.com               Support\n",
            "14      John      John@demomail.com  Business Development\n",
            "15  Leonardo  Leonardo@demomail.com  Business Development\n",
            "16   Matthew   Matthew@demomail.com       Human Resources\n",
            "17     Joana     Joana@demomail.com  Business Development\n",
            "18      Ross      Ross@demomail.com                 Legal\n",
            "19      Joey      Joey@demomail.com  Business Development\n",
            "20      Jack      Jack@demomail.com               Support\n"
          ]
        }
      ]
    },
    {
      "cell_type": "markdown",
      "source": [
        "Skipping Rows"
      ],
      "metadata": {
        "id": "xMMtasy-mcAL"
      }
    },
    {
      "cell_type": "code",
      "source": [
        "df_skp_rows = pd.read_excel(exl_file_path, skiprows=7)\n",
        "\n",
        "\n",
        "print(df_skp_rows)"
      ],
      "metadata": {
        "colab": {
          "base_uri": "https://localhost:8080/"
        },
        "id": "9EGM-B5MmevN",
        "outputId": "d2b82bb3-6403-4eab-b032-8861ff9564e5"
      },
      "execution_count": null,
      "outputs": [
        {
          "output_type": "stream",
          "name": "stdout",
          "text": [
            "     Heather 2022-08-04 00:00:00   Heather@demomail.com            Accounting  \\\n",
            "0        Ben          2022-08-04       Ben@demomail.com                 Sales   \n",
            "1    Caitlyn          2022-03-01   Caitlyn@demomail.com                Retail   \n",
            "2      Gibbs          2022-03-01     Gibbs@demomail.com                Retail   \n",
            "3   Anderson          2022-03-01  Anderson@demomail.com                 Sales   \n",
            "4    Michael          2022-03-01   Michael@demomail.com                Retail   \n",
            "5      David          2022-03-15     David@demomail.com                 Sales   \n",
            "6      Jacob          2022-03-15     Jacob@demomail.com               Support   \n",
            "7       John          2022-04-01      John@demomail.com  Business Development   \n",
            "8   Leonardo          2022-04-01  Leonardo@demomail.com  Business Development   \n",
            "9    Matthew          2022-04-17   Matthew@demomail.com       Human Resources   \n",
            "10     Joana          2022-06-01     Joana@demomail.com  Business Development   \n",
            "11      Ross          2022-07-02      Ross@demomail.com                 Legal   \n",
            "12      Joey          2022-07-15      Joey@demomail.com  Business Development   \n",
            "13      Jack          2022-01-03      Jack@demomail.com               Support   \n",
            "\n",
            "    3125 Unnamed: 5  \n",
            "0   3450        NaN  \n",
            "1   2785  Permanent  \n",
            "2   2785  Permanent  \n",
            "3   3450  Permanent  \n",
            "4   2785  Permanent  \n",
            "5   3450        NaN  \n",
            "6   2500        NaN  \n",
            "7   3100        NaN  \n",
            "8   3100        NaN  \n",
            "9   5830        NaN  \n",
            "10  3100        NaN  \n",
            "11  4920        NaN  \n",
            "12  3100        NaN  \n",
            "13  2500  Permanent  \n"
          ]
        }
      ]
    },
    {
      "cell_type": "markdown",
      "source": [
        "Handling Missing Values"
      ],
      "metadata": {
        "id": "QapVnj7am1dC"
      }
    },
    {
      "cell_type": "code",
      "source": [
        "df_missimg_val = pd.read_excel(exl_file_path,na_values=['NA','N/A',\"NULL\",\"\"])\n",
        "\n",
        "print(df_missimg_val)"
      ],
      "metadata": {
        "colab": {
          "base_uri": "https://localhost:8080/"
        },
        "id": "RL5xYRg6m4Bz",
        "outputId": "51afeedd-8c3e-48c6-dfb8-cfbe27d9e0de"
      },
      "execution_count": null,
      "outputs": [
        {
          "output_type": "stream",
          "name": "stdout",
          "text": [
            "        Name Joining Date          Email Address            Department  \\\n",
            "0       Mark   2021-12-31      Mark@demomail.com       Human Resources   \n",
            "1      Brian   2021-12-31     Brian@demomail.com                 Sales   \n",
            "2       Alan   2022-01-14      Alan@demomail.com                 Legal   \n",
            "3       Tony   2022-01-14      Tony@demomail.com                Retail   \n",
            "4     Agatha   2022-02-01    Agatha@demomail.com                 Sales   \n",
            "5       Lana   2022-02-01      Lana@demomail.com            Accounting   \n",
            "6    Heather   2022-08-04   Heather@demomail.com            Accounting   \n",
            "7        Ben   2022-08-04       Ben@demomail.com                 Sales   \n",
            "8    Caitlyn   2022-03-01   Caitlyn@demomail.com                Retail   \n",
            "9      Gibbs   2022-03-01     Gibbs@demomail.com                Retail   \n",
            "10  Anderson   2022-03-01  Anderson@demomail.com                 Sales   \n",
            "11   Michael   2022-03-01   Michael@demomail.com                Retail   \n",
            "12     David   2022-03-15     David@demomail.com                 Sales   \n",
            "13     Jacob   2022-03-15     Jacob@demomail.com               Support   \n",
            "14      John   2022-04-01      John@demomail.com  Business Development   \n",
            "15  Leonardo   2022-04-01  Leonardo@demomail.com  Business Development   \n",
            "16   Matthew   2022-04-17   Matthew@demomail.com       Human Resources   \n",
            "17     Joana   2022-06-01     Joana@demomail.com  Business Development   \n",
            "18      Ross   2022-07-02      Ross@demomail.com                 Legal   \n",
            "19      Joey   2022-07-15      Joey@demomail.com  Business Development   \n",
            "20      Jack   2022-01-03      Jack@demomail.com               Support   \n",
            "\n",
            "    Monthly Salary Job Status  \n",
            "0             5830  Permanent  \n",
            "1             3450  Permanent  \n",
            "2             4920  Permanent  \n",
            "3             2785  Permanent  \n",
            "4             3450  Permanent  \n",
            "5             3125  Permanent  \n",
            "6             3125        NaN  \n",
            "7             3450        NaN  \n",
            "8             2785  Permanent  \n",
            "9             2785  Permanent  \n",
            "10            3450  Permanent  \n",
            "11            2785  Permanent  \n",
            "12            3450        NaN  \n",
            "13            2500        NaN  \n",
            "14            3100        NaN  \n",
            "15            3100        NaN  \n",
            "16            5830        NaN  \n",
            "17            3100        NaN  \n",
            "18            4920        NaN  \n",
            "19            3100        NaN  \n",
            "20            2500  Permanent  \n"
          ]
        }
      ]
    },
    {
      "cell_type": "code",
      "source": [
        "df3.dtypes"
      ],
      "metadata": {
        "colab": {
          "base_uri": "https://localhost:8080/"
        },
        "id": "Twg2JWBUn4DZ",
        "outputId": "cd075e77-1385-4405-ec4d-8bb644317d6d"
      },
      "execution_count": null,
      "outputs": [
        {
          "output_type": "execute_result",
          "data": {
            "text/plain": [
              "Name                      object\n",
              "Joining Date      datetime64[ns]\n",
              "Email Address             object\n",
              "Department                object\n",
              "Monthly Salary             int64\n",
              "Job Status                object\n",
              "dtype: object"
            ]
          },
          "metadata": {},
          "execution_count": 26
        }
      ]
    },
    {
      "cell_type": "markdown",
      "source": [
        "**Data type conversions and manipulations**"
      ],
      "metadata": {
        "id": "YqgSuWV1ngtx"
      }
    },
    {
      "cell_type": "code",
      "source": [
        "print(df3.dtypes)"
      ],
      "metadata": {
        "colab": {
          "base_uri": "https://localhost:8080/"
        },
        "id": "0UMMb5COTvJ-",
        "outputId": "7e29efee-9c70-4228-fa2d-43c0626636e7"
      },
      "execution_count": null,
      "outputs": [
        {
          "output_type": "stream",
          "name": "stdout",
          "text": [
            "Name                      object\n",
            "Joining Date      datetime64[ns]\n",
            "Email Address             object\n",
            "Department                object\n",
            "Monthly Salary             int64\n",
            "Job Status                object\n",
            "dtype: object\n"
          ]
        }
      ]
    },
    {
      "cell_type": "code",
      "source": [
        "df3['Monthly Salary'] =df3['Monthly Salary'].astype(float)\n",
        "print(df3.dtypes)"
      ],
      "metadata": {
        "colab": {
          "base_uri": "https://localhost:8080/"
        },
        "id": "TgWApE0LT4Us",
        "outputId": "90412899-4561-45aa-831a-6cd50ccf22bf"
      },
      "execution_count": null,
      "outputs": [
        {
          "output_type": "stream",
          "name": "stdout",
          "text": [
            "Name                      object\n",
            "Joining Date      datetime64[ns]\n",
            "Email Address             object\n",
            "Department                object\n",
            "Monthly Salary           float64\n",
            "Job Status                object\n",
            "dtype: object\n"
          ]
        }
      ]
    },
    {
      "cell_type": "markdown",
      "source": [
        "String Manipulation"
      ],
      "metadata": {
        "id": "vFKfPC8sUGil"
      }
    },
    {
      "cell_type": "code",
      "source": [
        "df3['Name'] = df3['Name'].str.upper()\n",
        "\n",
        "print(df3['Name'])"
      ],
      "metadata": {
        "colab": {
          "base_uri": "https://localhost:8080/"
        },
        "id": "3k5uRae7UJGt",
        "outputId": "0b82d277-da6e-4dac-ae45-e2110f17ac5e"
      },
      "execution_count": null,
      "outputs": [
        {
          "output_type": "stream",
          "name": "stdout",
          "text": [
            "0         MARK\n",
            "1        BRIAN\n",
            "2         ALAN\n",
            "3         TONY\n",
            "4       AGATHA\n",
            "5         LANA\n",
            "6      HEATHER\n",
            "7          BEN\n",
            "8      CAITLYN\n",
            "9        GIBBS\n",
            "10    ANDERSON\n",
            "11     MICHAEL\n",
            "12       DAVID\n",
            "13       JACOB\n",
            "14        JOHN\n",
            "15    LEONARDO\n",
            "16     MATTHEW\n",
            "17       JOANA\n",
            "18        ROSS\n",
            "19        JOEY\n",
            "20        JACK\n",
            "Name: Name, dtype: object\n"
          ]
        }
      ]
    },
    {
      "cell_type": "code",
      "source": [
        "#Assume date column is in string format and convert it to a datetime\n",
        "\n",
        "df3['Joining Date']=pd.to_datetime(df3['Joining Date'])\n",
        "\n",
        "df3['Year'] =df3['Joining Date'].dt.year\n",
        "\n",
        "\n",
        "df3['Year']"
      ],
      "metadata": {
        "colab": {
          "base_uri": "https://localhost:8080/"
        },
        "id": "0ViPOf3ZUZ42",
        "outputId": "230670fc-0a41-49cd-b73d-74a74febc923"
      },
      "execution_count": null,
      "outputs": [
        {
          "output_type": "execute_result",
          "data": {
            "text/plain": [
              "0     2021\n",
              "1     2021\n",
              "2     2022\n",
              "3     2022\n",
              "4     2022\n",
              "5     2022\n",
              "6     2022\n",
              "7     2022\n",
              "8     2022\n",
              "9     2022\n",
              "10    2022\n",
              "11    2022\n",
              "12    2022\n",
              "13    2022\n",
              "14    2022\n",
              "15    2022\n",
              "16    2022\n",
              "17    2022\n",
              "18    2022\n",
              "19    2022\n",
              "20    2022\n",
              "Name: Year, dtype: int64"
            ]
          },
          "metadata": {},
          "execution_count": 31
        }
      ]
    },
    {
      "cell_type": "code",
      "source": [
        "#Numerical Operations\n",
        "\n",
        "df3['Year'] =df3['Year']*3\n",
        "\n",
        "\n",
        "df3['Year']"
      ],
      "metadata": {
        "colab": {
          "base_uri": "https://localhost:8080/"
        },
        "id": "cYaMKOkwU6KI",
        "outputId": "b90dbd77-2e31-4865-eafd-9bc3c31a8ec5"
      },
      "execution_count": null,
      "outputs": [
        {
          "output_type": "execute_result",
          "data": {
            "text/plain": [
              "0     6063\n",
              "1     6063\n",
              "2     6066\n",
              "3     6066\n",
              "4     6066\n",
              "5     6066\n",
              "6     6066\n",
              "7     6066\n",
              "8     6066\n",
              "9     6066\n",
              "10    6066\n",
              "11    6066\n",
              "12    6066\n",
              "13    6066\n",
              "14    6066\n",
              "15    6066\n",
              "16    6066\n",
              "17    6066\n",
              "18    6066\n",
              "19    6066\n",
              "20    6066\n",
              "Name: Year, dtype: int64"
            ]
          },
          "metadata": {},
          "execution_count": 32
        }
      ]
    },
    {
      "cell_type": "markdown",
      "source": [],
      "metadata": {
        "id": "Ro-O3t3Uvlpe"
      }
    },
    {
      "cell_type": "code",
      "source": [
        "#Custom Functions\n",
        "\n",
        "\n",
        "def sal_cat(sal):\n",
        "  if sal<6000:\n",
        "    return \"Beginner\"\n",
        "  elif sal < 10000:\n",
        "    return \"Intermediate\"\n",
        "  else:\n",
        "    return 'Expert'\n",
        "\n",
        "df3['Salary Category'] =df3['Monthly Salary'].apply(sal_cat)\n",
        "\n",
        "print(df3)"
      ],
      "metadata": {
        "colab": {
          "base_uri": "https://localhost:8080/"
        },
        "id": "qUKqeuI0VOqy",
        "outputId": "c5a27595-5a07-4be3-9772-27c505498317"
      },
      "execution_count": null,
      "outputs": [
        {
          "output_type": "stream",
          "name": "stdout",
          "text": [
            "        Name Joining Date          Email Address            Department  \\\n",
            "0       MARK   2021-12-31      Mark@demomail.com       Human Resources   \n",
            "1      BRIAN   2021-12-31     Brian@demomail.com                 Sales   \n",
            "2       ALAN   2022-01-14      Alan@demomail.com                 Legal   \n",
            "3       TONY   2022-01-14      Tony@demomail.com                Retail   \n",
            "4     AGATHA   2022-02-01    Agatha@demomail.com                 Sales   \n",
            "5       LANA   2022-02-01      Lana@demomail.com            Accounting   \n",
            "6    HEATHER   2022-08-04   Heather@demomail.com            Accounting   \n",
            "7        BEN   2022-08-04       Ben@demomail.com                 Sales   \n",
            "8    CAITLYN   2022-03-01   Caitlyn@demomail.com                Retail   \n",
            "9      GIBBS   2022-03-01     Gibbs@demomail.com                Retail   \n",
            "10  ANDERSON   2022-03-01  Anderson@demomail.com                 Sales   \n",
            "11   MICHAEL   2022-03-01   Michael@demomail.com                Retail   \n",
            "12     DAVID   2022-03-15     David@demomail.com                 Sales   \n",
            "13     JACOB   2022-03-15     Jacob@demomail.com               Support   \n",
            "14      JOHN   2022-04-01      John@demomail.com  Business Development   \n",
            "15  LEONARDO   2022-04-01  Leonardo@demomail.com  Business Development   \n",
            "16   MATTHEW   2022-04-17   Matthew@demomail.com       Human Resources   \n",
            "17     JOANA   2022-06-01     Joana@demomail.com  Business Development   \n",
            "18      ROSS   2022-07-02      Ross@demomail.com                 Legal   \n",
            "19      JOEY   2022-07-15      Joey@demomail.com  Business Development   \n",
            "20      JACK   2022-01-03      Jack@demomail.com               Support   \n",
            "\n",
            "    Monthly Salary Job Status  Year Salary Category  \n",
            "0           5830.0  Permanent  6063        Beginner  \n",
            "1           3450.0  Permanent  6063        Beginner  \n",
            "2           4920.0  Permanent  6066        Beginner  \n",
            "3           2785.0  Permanent  6066        Beginner  \n",
            "4           3450.0  Permanent  6066        Beginner  \n",
            "5           3125.0  Permanent  6066        Beginner  \n",
            "6           3125.0        NaN  6066        Beginner  \n",
            "7           3450.0        NaN  6066        Beginner  \n",
            "8           2785.0  Permanent  6066        Beginner  \n",
            "9           2785.0  Permanent  6066        Beginner  \n",
            "10          3450.0  Permanent  6066        Beginner  \n",
            "11          2785.0  Permanent  6066        Beginner  \n",
            "12          3450.0        NaN  6066        Beginner  \n",
            "13          2500.0        NaN  6066        Beginner  \n",
            "14          3100.0        NaN  6066        Beginner  \n",
            "15          3100.0        NaN  6066        Beginner  \n",
            "16          5830.0        NaN  6066        Beginner  \n",
            "17          3100.0        NaN  6066        Beginner  \n",
            "18          4920.0        NaN  6066        Beginner  \n",
            "19          3100.0        NaN  6066        Beginner  \n",
            "20          2500.0  Permanent  6066        Beginner  \n"
          ]
        }
      ]
    },
    {
      "cell_type": "markdown",
      "source": [
        "**Data Analysis and Visualization**\n",
        "\n",
        "  Descriptive Statitics with Pandas   \n",
        "\n",
        "\n"
      ],
      "metadata": {
        "id": "izrUG4mFvrbF"
      }
    },
    {
      "cell_type": "code",
      "source": [
        "df3"
      ],
      "metadata": {
        "colab": {
          "base_uri": "https://localhost:8080/",
          "height": 725
        },
        "id": "WJAUnBGSwH4c",
        "outputId": "5a8b2e1f-0c66-4207-851e-f02b78d04f60"
      },
      "execution_count": null,
      "outputs": [
        {
          "output_type": "execute_result",
          "data": {
            "text/plain": [
              "        Name Joining Date          Email Address            Department  \\\n",
              "0       Mark   2021-12-31      Mark@demomail.com       Human Resources   \n",
              "1      Brian   2021-12-31     Brian@demomail.com                 Sales   \n",
              "2       Alan   2022-01-14      Alan@demomail.com                 Legal   \n",
              "3       Tony   2022-01-14      Tony@demomail.com                Retail   \n",
              "4     Agatha   2022-02-01    Agatha@demomail.com                 Sales   \n",
              "5       Lana   2022-02-01      Lana@demomail.com            Accounting   \n",
              "6    Heather   2022-08-04   Heather@demomail.com            Accounting   \n",
              "7        Ben   2022-08-04       Ben@demomail.com                 Sales   \n",
              "8    Caitlyn   2022-03-01   Caitlyn@demomail.com                Retail   \n",
              "9      Gibbs   2022-03-01     Gibbs@demomail.com                Retail   \n",
              "10  Anderson   2022-03-01  Anderson@demomail.com                 Sales   \n",
              "11   Michael   2022-03-01   Michael@demomail.com                Retail   \n",
              "12     David   2022-03-15     David@demomail.com                 Sales   \n",
              "13     Jacob   2022-03-15     Jacob@demomail.com               Support   \n",
              "14      John   2022-04-01      John@demomail.com  Business Development   \n",
              "15  Leonardo   2022-04-01  Leonardo@demomail.com  Business Development   \n",
              "16   Matthew   2022-04-17   Matthew@demomail.com       Human Resources   \n",
              "17     Joana   2022-06-01     Joana@demomail.com  Business Development   \n",
              "18      Ross   2022-07-02      Ross@demomail.com                 Legal   \n",
              "19      Joey   2022-07-15      Joey@demomail.com  Business Development   \n",
              "20      Jack   2022-01-03      Jack@demomail.com               Support   \n",
              "\n",
              "    Monthly Salary Job Status  \n",
              "0             5830  Permanent  \n",
              "1             3450  Permanent  \n",
              "2             4920  Permanent  \n",
              "3             2785  Permanent  \n",
              "4             3450  Permanent  \n",
              "5             3125  Permanent  \n",
              "6             3125        NaN  \n",
              "7             3450        NaN  \n",
              "8             2785  Permanent  \n",
              "9             2785  Permanent  \n",
              "10            3450  Permanent  \n",
              "11            2785  Permanent  \n",
              "12            3450        NaN  \n",
              "13            2500        NaN  \n",
              "14            3100        NaN  \n",
              "15            3100        NaN  \n",
              "16            5830        NaN  \n",
              "17            3100        NaN  \n",
              "18            4920        NaN  \n",
              "19            3100        NaN  \n",
              "20            2500  Permanent  "
            ],
            "text/html": [
              "\n",
              "  <div id=\"df-5a432f9d-0b04-4582-9f5e-7668055c1385\" class=\"colab-df-container\">\n",
              "    <div>\n",
              "<style scoped>\n",
              "    .dataframe tbody tr th:only-of-type {\n",
              "        vertical-align: middle;\n",
              "    }\n",
              "\n",
              "    .dataframe tbody tr th {\n",
              "        vertical-align: top;\n",
              "    }\n",
              "\n",
              "    .dataframe thead th {\n",
              "        text-align: right;\n",
              "    }\n",
              "</style>\n",
              "<table border=\"1\" class=\"dataframe\">\n",
              "  <thead>\n",
              "    <tr style=\"text-align: right;\">\n",
              "      <th></th>\n",
              "      <th>Name</th>\n",
              "      <th>Joining Date</th>\n",
              "      <th>Email Address</th>\n",
              "      <th>Department</th>\n",
              "      <th>Monthly Salary</th>\n",
              "      <th>Job Status</th>\n",
              "    </tr>\n",
              "  </thead>\n",
              "  <tbody>\n",
              "    <tr>\n",
              "      <th>0</th>\n",
              "      <td>Mark</td>\n",
              "      <td>2021-12-31</td>\n",
              "      <td>Mark@demomail.com</td>\n",
              "      <td>Human Resources</td>\n",
              "      <td>5830</td>\n",
              "      <td>Permanent</td>\n",
              "    </tr>\n",
              "    <tr>\n",
              "      <th>1</th>\n",
              "      <td>Brian</td>\n",
              "      <td>2021-12-31</td>\n",
              "      <td>Brian@demomail.com</td>\n",
              "      <td>Sales</td>\n",
              "      <td>3450</td>\n",
              "      <td>Permanent</td>\n",
              "    </tr>\n",
              "    <tr>\n",
              "      <th>2</th>\n",
              "      <td>Alan</td>\n",
              "      <td>2022-01-14</td>\n",
              "      <td>Alan@demomail.com</td>\n",
              "      <td>Legal</td>\n",
              "      <td>4920</td>\n",
              "      <td>Permanent</td>\n",
              "    </tr>\n",
              "    <tr>\n",
              "      <th>3</th>\n",
              "      <td>Tony</td>\n",
              "      <td>2022-01-14</td>\n",
              "      <td>Tony@demomail.com</td>\n",
              "      <td>Retail</td>\n",
              "      <td>2785</td>\n",
              "      <td>Permanent</td>\n",
              "    </tr>\n",
              "    <tr>\n",
              "      <th>4</th>\n",
              "      <td>Agatha</td>\n",
              "      <td>2022-02-01</td>\n",
              "      <td>Agatha@demomail.com</td>\n",
              "      <td>Sales</td>\n",
              "      <td>3450</td>\n",
              "      <td>Permanent</td>\n",
              "    </tr>\n",
              "    <tr>\n",
              "      <th>5</th>\n",
              "      <td>Lana</td>\n",
              "      <td>2022-02-01</td>\n",
              "      <td>Lana@demomail.com</td>\n",
              "      <td>Accounting</td>\n",
              "      <td>3125</td>\n",
              "      <td>Permanent</td>\n",
              "    </tr>\n",
              "    <tr>\n",
              "      <th>6</th>\n",
              "      <td>Heather</td>\n",
              "      <td>2022-08-04</td>\n",
              "      <td>Heather@demomail.com</td>\n",
              "      <td>Accounting</td>\n",
              "      <td>3125</td>\n",
              "      <td>NaN</td>\n",
              "    </tr>\n",
              "    <tr>\n",
              "      <th>7</th>\n",
              "      <td>Ben</td>\n",
              "      <td>2022-08-04</td>\n",
              "      <td>Ben@demomail.com</td>\n",
              "      <td>Sales</td>\n",
              "      <td>3450</td>\n",
              "      <td>NaN</td>\n",
              "    </tr>\n",
              "    <tr>\n",
              "      <th>8</th>\n",
              "      <td>Caitlyn</td>\n",
              "      <td>2022-03-01</td>\n",
              "      <td>Caitlyn@demomail.com</td>\n",
              "      <td>Retail</td>\n",
              "      <td>2785</td>\n",
              "      <td>Permanent</td>\n",
              "    </tr>\n",
              "    <tr>\n",
              "      <th>9</th>\n",
              "      <td>Gibbs</td>\n",
              "      <td>2022-03-01</td>\n",
              "      <td>Gibbs@demomail.com</td>\n",
              "      <td>Retail</td>\n",
              "      <td>2785</td>\n",
              "      <td>Permanent</td>\n",
              "    </tr>\n",
              "    <tr>\n",
              "      <th>10</th>\n",
              "      <td>Anderson</td>\n",
              "      <td>2022-03-01</td>\n",
              "      <td>Anderson@demomail.com</td>\n",
              "      <td>Sales</td>\n",
              "      <td>3450</td>\n",
              "      <td>Permanent</td>\n",
              "    </tr>\n",
              "    <tr>\n",
              "      <th>11</th>\n",
              "      <td>Michael</td>\n",
              "      <td>2022-03-01</td>\n",
              "      <td>Michael@demomail.com</td>\n",
              "      <td>Retail</td>\n",
              "      <td>2785</td>\n",
              "      <td>Permanent</td>\n",
              "    </tr>\n",
              "    <tr>\n",
              "      <th>12</th>\n",
              "      <td>David</td>\n",
              "      <td>2022-03-15</td>\n",
              "      <td>David@demomail.com</td>\n",
              "      <td>Sales</td>\n",
              "      <td>3450</td>\n",
              "      <td>NaN</td>\n",
              "    </tr>\n",
              "    <tr>\n",
              "      <th>13</th>\n",
              "      <td>Jacob</td>\n",
              "      <td>2022-03-15</td>\n",
              "      <td>Jacob@demomail.com</td>\n",
              "      <td>Support</td>\n",
              "      <td>2500</td>\n",
              "      <td>NaN</td>\n",
              "    </tr>\n",
              "    <tr>\n",
              "      <th>14</th>\n",
              "      <td>John</td>\n",
              "      <td>2022-04-01</td>\n",
              "      <td>John@demomail.com</td>\n",
              "      <td>Business Development</td>\n",
              "      <td>3100</td>\n",
              "      <td>NaN</td>\n",
              "    </tr>\n",
              "    <tr>\n",
              "      <th>15</th>\n",
              "      <td>Leonardo</td>\n",
              "      <td>2022-04-01</td>\n",
              "      <td>Leonardo@demomail.com</td>\n",
              "      <td>Business Development</td>\n",
              "      <td>3100</td>\n",
              "      <td>NaN</td>\n",
              "    </tr>\n",
              "    <tr>\n",
              "      <th>16</th>\n",
              "      <td>Matthew</td>\n",
              "      <td>2022-04-17</td>\n",
              "      <td>Matthew@demomail.com</td>\n",
              "      <td>Human Resources</td>\n",
              "      <td>5830</td>\n",
              "      <td>NaN</td>\n",
              "    </tr>\n",
              "    <tr>\n",
              "      <th>17</th>\n",
              "      <td>Joana</td>\n",
              "      <td>2022-06-01</td>\n",
              "      <td>Joana@demomail.com</td>\n",
              "      <td>Business Development</td>\n",
              "      <td>3100</td>\n",
              "      <td>NaN</td>\n",
              "    </tr>\n",
              "    <tr>\n",
              "      <th>18</th>\n",
              "      <td>Ross</td>\n",
              "      <td>2022-07-02</td>\n",
              "      <td>Ross@demomail.com</td>\n",
              "      <td>Legal</td>\n",
              "      <td>4920</td>\n",
              "      <td>NaN</td>\n",
              "    </tr>\n",
              "    <tr>\n",
              "      <th>19</th>\n",
              "      <td>Joey</td>\n",
              "      <td>2022-07-15</td>\n",
              "      <td>Joey@demomail.com</td>\n",
              "      <td>Business Development</td>\n",
              "      <td>3100</td>\n",
              "      <td>NaN</td>\n",
              "    </tr>\n",
              "    <tr>\n",
              "      <th>20</th>\n",
              "      <td>Jack</td>\n",
              "      <td>2022-01-03</td>\n",
              "      <td>Jack@demomail.com</td>\n",
              "      <td>Support</td>\n",
              "      <td>2500</td>\n",
              "      <td>Permanent</td>\n",
              "    </tr>\n",
              "  </tbody>\n",
              "</table>\n",
              "</div>\n",
              "    <div class=\"colab-df-buttons\">\n",
              "\n",
              "  <div class=\"colab-df-container\">\n",
              "    <button class=\"colab-df-convert\" onclick=\"convertToInteractive('df-5a432f9d-0b04-4582-9f5e-7668055c1385')\"\n",
              "            title=\"Convert this dataframe to an interactive table.\"\n",
              "            style=\"display:none;\">\n",
              "\n",
              "  <svg xmlns=\"http://www.w3.org/2000/svg\" height=\"24px\" viewBox=\"0 -960 960 960\">\n",
              "    <path d=\"M120-120v-720h720v720H120Zm60-500h600v-160H180v160Zm220 220h160v-160H400v160Zm0 220h160v-160H400v160ZM180-400h160v-160H180v160Zm440 0h160v-160H620v160ZM180-180h160v-160H180v160Zm440 0h160v-160H620v160Z\"/>\n",
              "  </svg>\n",
              "    </button>\n",
              "\n",
              "  <style>\n",
              "    .colab-df-container {\n",
              "      display:flex;\n",
              "      gap: 12px;\n",
              "    }\n",
              "\n",
              "    .colab-df-convert {\n",
              "      background-color: #E8F0FE;\n",
              "      border: none;\n",
              "      border-radius: 50%;\n",
              "      cursor: pointer;\n",
              "      display: none;\n",
              "      fill: #1967D2;\n",
              "      height: 32px;\n",
              "      padding: 0 0 0 0;\n",
              "      width: 32px;\n",
              "    }\n",
              "\n",
              "    .colab-df-convert:hover {\n",
              "      background-color: #E2EBFA;\n",
              "      box-shadow: 0px 1px 2px rgba(60, 64, 67, 0.3), 0px 1px 3px 1px rgba(60, 64, 67, 0.15);\n",
              "      fill: #174EA6;\n",
              "    }\n",
              "\n",
              "    .colab-df-buttons div {\n",
              "      margin-bottom: 4px;\n",
              "    }\n",
              "\n",
              "    [theme=dark] .colab-df-convert {\n",
              "      background-color: #3B4455;\n",
              "      fill: #D2E3FC;\n",
              "    }\n",
              "\n",
              "    [theme=dark] .colab-df-convert:hover {\n",
              "      background-color: #434B5C;\n",
              "      box-shadow: 0px 1px 3px 1px rgba(0, 0, 0, 0.15);\n",
              "      filter: drop-shadow(0px 1px 2px rgba(0, 0, 0, 0.3));\n",
              "      fill: #FFFFFF;\n",
              "    }\n",
              "  </style>\n",
              "\n",
              "    <script>\n",
              "      const buttonEl =\n",
              "        document.querySelector('#df-5a432f9d-0b04-4582-9f5e-7668055c1385 button.colab-df-convert');\n",
              "      buttonEl.style.display =\n",
              "        google.colab.kernel.accessAllowed ? 'block' : 'none';\n",
              "\n",
              "      async function convertToInteractive(key) {\n",
              "        const element = document.querySelector('#df-5a432f9d-0b04-4582-9f5e-7668055c1385');\n",
              "        const dataTable =\n",
              "          await google.colab.kernel.invokeFunction('convertToInteractive',\n",
              "                                                    [key], {});\n",
              "        if (!dataTable) return;\n",
              "\n",
              "        const docLinkHtml = 'Like what you see? Visit the ' +\n",
              "          '<a target=\"_blank\" href=https://colab.research.google.com/notebooks/data_table.ipynb>data table notebook</a>'\n",
              "          + ' to learn more about interactive tables.';\n",
              "        element.innerHTML = '';\n",
              "        dataTable['output_type'] = 'display_data';\n",
              "        await google.colab.output.renderOutput(dataTable, element);\n",
              "        const docLink = document.createElement('div');\n",
              "        docLink.innerHTML = docLinkHtml;\n",
              "        element.appendChild(docLink);\n",
              "      }\n",
              "    </script>\n",
              "  </div>\n",
              "\n",
              "\n",
              "<div id=\"df-1cbe638e-6dce-4ae1-bdd1-cac9083c8a63\">\n",
              "  <button class=\"colab-df-quickchart\" onclick=\"quickchart('df-1cbe638e-6dce-4ae1-bdd1-cac9083c8a63')\"\n",
              "            title=\"Suggest charts\"\n",
              "            style=\"display:none;\">\n",
              "\n",
              "<svg xmlns=\"http://www.w3.org/2000/svg\" height=\"24px\"viewBox=\"0 0 24 24\"\n",
              "     width=\"24px\">\n",
              "    <g>\n",
              "        <path d=\"M19 3H5c-1.1 0-2 .9-2 2v14c0 1.1.9 2 2 2h14c1.1 0 2-.9 2-2V5c0-1.1-.9-2-2-2zM9 17H7v-7h2v7zm4 0h-2V7h2v10zm4 0h-2v-4h2v4z\"/>\n",
              "    </g>\n",
              "</svg>\n",
              "  </button>\n",
              "\n",
              "<style>\n",
              "  .colab-df-quickchart {\n",
              "      --bg-color: #E8F0FE;\n",
              "      --fill-color: #1967D2;\n",
              "      --hover-bg-color: #E2EBFA;\n",
              "      --hover-fill-color: #174EA6;\n",
              "      --disabled-fill-color: #AAA;\n",
              "      --disabled-bg-color: #DDD;\n",
              "  }\n",
              "\n",
              "  [theme=dark] .colab-df-quickchart {\n",
              "      --bg-color: #3B4455;\n",
              "      --fill-color: #D2E3FC;\n",
              "      --hover-bg-color: #434B5C;\n",
              "      --hover-fill-color: #FFFFFF;\n",
              "      --disabled-bg-color: #3B4455;\n",
              "      --disabled-fill-color: #666;\n",
              "  }\n",
              "\n",
              "  .colab-df-quickchart {\n",
              "    background-color: var(--bg-color);\n",
              "    border: none;\n",
              "    border-radius: 50%;\n",
              "    cursor: pointer;\n",
              "    display: none;\n",
              "    fill: var(--fill-color);\n",
              "    height: 32px;\n",
              "    padding: 0;\n",
              "    width: 32px;\n",
              "  }\n",
              "\n",
              "  .colab-df-quickchart:hover {\n",
              "    background-color: var(--hover-bg-color);\n",
              "    box-shadow: 0 1px 2px rgba(60, 64, 67, 0.3), 0 1px 3px 1px rgba(60, 64, 67, 0.15);\n",
              "    fill: var(--button-hover-fill-color);\n",
              "  }\n",
              "\n",
              "  .colab-df-quickchart-complete:disabled,\n",
              "  .colab-df-quickchart-complete:disabled:hover {\n",
              "    background-color: var(--disabled-bg-color);\n",
              "    fill: var(--disabled-fill-color);\n",
              "    box-shadow: none;\n",
              "  }\n",
              "\n",
              "  .colab-df-spinner {\n",
              "    border: 2px solid var(--fill-color);\n",
              "    border-color: transparent;\n",
              "    border-bottom-color: var(--fill-color);\n",
              "    animation:\n",
              "      spin 1s steps(1) infinite;\n",
              "  }\n",
              "\n",
              "  @keyframes spin {\n",
              "    0% {\n",
              "      border-color: transparent;\n",
              "      border-bottom-color: var(--fill-color);\n",
              "      border-left-color: var(--fill-color);\n",
              "    }\n",
              "    20% {\n",
              "      border-color: transparent;\n",
              "      border-left-color: var(--fill-color);\n",
              "      border-top-color: var(--fill-color);\n",
              "    }\n",
              "    30% {\n",
              "      border-color: transparent;\n",
              "      border-left-color: var(--fill-color);\n",
              "      border-top-color: var(--fill-color);\n",
              "      border-right-color: var(--fill-color);\n",
              "    }\n",
              "    40% {\n",
              "      border-color: transparent;\n",
              "      border-right-color: var(--fill-color);\n",
              "      border-top-color: var(--fill-color);\n",
              "    }\n",
              "    60% {\n",
              "      border-color: transparent;\n",
              "      border-right-color: var(--fill-color);\n",
              "    }\n",
              "    80% {\n",
              "      border-color: transparent;\n",
              "      border-right-color: var(--fill-color);\n",
              "      border-bottom-color: var(--fill-color);\n",
              "    }\n",
              "    90% {\n",
              "      border-color: transparent;\n",
              "      border-bottom-color: var(--fill-color);\n",
              "    }\n",
              "  }\n",
              "</style>\n",
              "\n",
              "  <script>\n",
              "    async function quickchart(key) {\n",
              "      const quickchartButtonEl =\n",
              "        document.querySelector('#' + key + ' button');\n",
              "      quickchartButtonEl.disabled = true;  // To prevent multiple clicks.\n",
              "      quickchartButtonEl.classList.add('colab-df-spinner');\n",
              "      try {\n",
              "        const charts = await google.colab.kernel.invokeFunction(\n",
              "            'suggestCharts', [key], {});\n",
              "      } catch (error) {\n",
              "        console.error('Error during call to suggestCharts:', error);\n",
              "      }\n",
              "      quickchartButtonEl.classList.remove('colab-df-spinner');\n",
              "      quickchartButtonEl.classList.add('colab-df-quickchart-complete');\n",
              "    }\n",
              "    (() => {\n",
              "      let quickchartButtonEl =\n",
              "        document.querySelector('#df-1cbe638e-6dce-4ae1-bdd1-cac9083c8a63 button');\n",
              "      quickchartButtonEl.style.display =\n",
              "        google.colab.kernel.accessAllowed ? 'block' : 'none';\n",
              "    })();\n",
              "  </script>\n",
              "</div>\n",
              "    </div>\n",
              "  </div>\n"
            ]
          },
          "metadata": {},
          "execution_count": 4
        },
        {
          "output_type": "stream",
          "name": "stdout",
          "text": [
            "WARNING: Runtime no longer has a reference to this dataframe, please re-run this cell and try again.\n"
          ]
        }
      ]
    },
    {
      "cell_type": "code",
      "source": [
        "# Measure to calculate central Tendency\n",
        "\n",
        "\n",
        "mean_Monthly_Salary =df3['Monthly Salary'].mean()\n",
        "\n",
        "median_Monthly_Salary =df3['Monthly Salary'].median()\n",
        "\n",
        "mode_Monthly_Salary =df3['Monthly Salary'].mode().values[0]\n",
        "\n",
        "print(f\"Mean Salary: {mean_Monthly_Salary}, Median Salary: {median_Monthly_Salary}, Mode salary: {mode_Monthly_Salary}\")"
      ],
      "metadata": {
        "colab": {
          "base_uri": "https://localhost:8080/"
        },
        "id": "eoaGxEdDwNwm",
        "outputId": "ff8345bf-1c1d-43b0-8b5c-254f73ccb265"
      },
      "execution_count": null,
      "outputs": [
        {
          "output_type": "stream",
          "name": "stdout",
          "text": [
            "Mean Salary: 3501.904761904762, Median Salary: 3125.0, Mode salary: 3450\n"
          ]
        }
      ]
    },
    {
      "cell_type": "code",
      "source": [
        "#Measure of Dispersion\n",
        "\n",
        "\n",
        "Salary_range =df3['Monthly Salary'].max() - df3['Monthly Salary'].min()\n",
        "Salary_variance =df3['Monthly Salary'].var()\n",
        "\n",
        "Salary_std_dev = df3['Monthly Salary'].std()\n",
        "\n",
        "print(f\"Salary Range:{Salary_range}, Variance: {Salary_variance}, Std Deviation: {Salary_std_dev}\")"
      ],
      "metadata": {
        "colab": {
          "base_uri": "https://localhost:8080/"
        },
        "id": "-DMnnMtOxOVk",
        "outputId": "a1c0ab51-7d68-42c1-e4c7-0463062b3d8c"
      },
      "execution_count": null,
      "outputs": [
        {
          "output_type": "stream",
          "name": "stdout",
          "text": [
            "Salary Range:3330, Variance: 993458.6904761905, Std Deviation: 996.7239790815663\n"
          ]
        }
      ]
    },
    {
      "cell_type": "code",
      "source": [
        "#Count and Frequency\n",
        "\n",
        "count_sal =df3['Monthly Salary'].count()\n",
        "\n",
        "\n",
        "dept_freq =df3['Department'].value_counts()\n",
        "\n",
        "print(f\"Number of salary values: {count_sal}\")\n",
        "print(f\"Frequency of Dept:\\n{dept_freq}\")"
      ],
      "metadata": {
        "colab": {
          "base_uri": "https://localhost:8080/"
        },
        "id": "5TxZ68Utytsr",
        "outputId": "f1cbf142-add6-4ab3-f54c-4f16d998f458"
      },
      "execution_count": null,
      "outputs": [
        {
          "output_type": "stream",
          "name": "stdout",
          "text": [
            "Number of salary values: 21\n",
            "Frequency of Dept:\n",
            "Sales                   5\n",
            "Retail                  4\n",
            "Business Development    4\n",
            "Human Resources         2\n",
            "Legal                   2\n",
            "Accounting              2\n",
            "Support                 2\n",
            "Name: Department, dtype: int64\n"
          ]
        }
      ]
    },
    {
      "cell_type": "code",
      "source": [
        "# Summary Stats\n",
        "\n",
        "sum_stats = df3.describe()\n",
        "\n",
        "print(sum_stats)"
      ],
      "metadata": {
        "colab": {
          "base_uri": "https://localhost:8080/"
        },
        "id": "iwXvi8ILz9Xr",
        "outputId": "0f1bf139-64a8-4c31-a497-a51b8ebf5a4b"
      },
      "execution_count": null,
      "outputs": [
        {
          "output_type": "stream",
          "name": "stdout",
          "text": [
            "       Monthly Salary\n",
            "count       21.000000\n",
            "mean      3501.904762\n",
            "std        996.723979\n",
            "min       2500.000000\n",
            "25%       2785.000000\n",
            "50%       3125.000000\n",
            "75%       3450.000000\n",
            "max       5830.000000\n"
          ]
        }
      ]
    },
    {
      "cell_type": "code",
      "source": [
        "#grouping Data\n",
        "\n",
        "grp_df = df3.groupby('Department')\n",
        "\n",
        "for key, value in grp_df:\n",
        "  print(key,value)"
      ],
      "metadata": {
        "colab": {
          "base_uri": "https://localhost:8080/"
        },
        "id": "LGI_NpHN6Eda",
        "outputId": "acd98867-3b6e-4a0c-fac2-55a0d31c82f5"
      },
      "execution_count": null,
      "outputs": [
        {
          "output_type": "stream",
          "name": "stdout",
          "text": [
            "Accounting       Name Joining Date         Email Address  Department  Monthly Salary  \\\n",
            "5     Lana   2022-02-01     Lana@demomail.com  Accounting            3125   \n",
            "6  Heather   2022-08-04  Heather@demomail.com  Accounting            3125   \n",
            "\n",
            "  Job Status  \n",
            "5  Permanent  \n",
            "6        NaN  \n",
            "Business Development         Name Joining Date          Email Address            Department  \\\n",
            "14      John   2022-04-01      John@demomail.com  Business Development   \n",
            "15  Leonardo   2022-04-01  Leonardo@demomail.com  Business Development   \n",
            "17     Joana   2022-06-01     Joana@demomail.com  Business Development   \n",
            "19      Joey   2022-07-15      Joey@demomail.com  Business Development   \n",
            "\n",
            "    Monthly Salary Job Status  \n",
            "14            3100        NaN  \n",
            "15            3100        NaN  \n",
            "17            3100        NaN  \n",
            "19            3100        NaN  \n",
            "Human Resources        Name Joining Date         Email Address       Department  \\\n",
            "0      Mark   2021-12-31     Mark@demomail.com  Human Resources   \n",
            "16  Matthew   2022-04-17  Matthew@demomail.com  Human Resources   \n",
            "\n",
            "    Monthly Salary Job Status  \n",
            "0             5830  Permanent  \n",
            "16            5830        NaN  \n",
            "Legal     Name Joining Date      Email Address Department  Monthly Salary Job Status\n",
            "2   Alan   2022-01-14  Alan@demomail.com      Legal            4920  Permanent\n",
            "18  Ross   2022-07-02  Ross@demomail.com      Legal            4920        NaN\n",
            "Retail        Name Joining Date         Email Address Department  Monthly Salary  \\\n",
            "3      Tony   2022-01-14     Tony@demomail.com     Retail            2785   \n",
            "8   Caitlyn   2022-03-01  Caitlyn@demomail.com     Retail            2785   \n",
            "9     Gibbs   2022-03-01    Gibbs@demomail.com     Retail            2785   \n",
            "11  Michael   2022-03-01  Michael@demomail.com     Retail            2785   \n",
            "\n",
            "   Job Status  \n",
            "3   Permanent  \n",
            "8   Permanent  \n",
            "9   Permanent  \n",
            "11  Permanent  \n",
            "Sales         Name Joining Date          Email Address Department  Monthly Salary  \\\n",
            "1      Brian   2021-12-31     Brian@demomail.com      Sales            3450   \n",
            "4     Agatha   2022-02-01    Agatha@demomail.com      Sales            3450   \n",
            "7        Ben   2022-08-04       Ben@demomail.com      Sales            3450   \n",
            "10  Anderson   2022-03-01  Anderson@demomail.com      Sales            3450   \n",
            "12     David   2022-03-15     David@demomail.com      Sales            3450   \n",
            "\n",
            "   Job Status  \n",
            "1   Permanent  \n",
            "4   Permanent  \n",
            "7         NaN  \n",
            "10  Permanent  \n",
            "12        NaN  \n",
            "Support      Name Joining Date       Email Address Department  Monthly Salary  \\\n",
            "13  Jacob   2022-03-15  Jacob@demomail.com    Support            2500   \n",
            "20   Jack   2022-01-03   Jack@demomail.com    Support            2500   \n",
            "\n",
            "   Job Status  \n",
            "13        NaN  \n",
            "20  Permanent  \n"
          ]
        }
      ]
    },
    {
      "cell_type": "code",
      "source": [
        "#Aggregation Functions\n",
        "\n",
        "# Total salary department wise\n",
        "\n",
        "sal_dept = grp_df['Monthly Salary'].sum()\n",
        "\n",
        "print(sal_dept)"
      ],
      "metadata": {
        "colab": {
          "base_uri": "https://localhost:8080/"
        },
        "id": "XrOsVyIf6cnc",
        "outputId": "f548ed21-d375-4600-d846-20b798c5c04f"
      },
      "execution_count": null,
      "outputs": [
        {
          "output_type": "stream",
          "name": "stdout",
          "text": [
            "Department\n",
            "Accounting               6250\n",
            "Business Development    12400\n",
            "Human Resources         11660\n",
            "Legal                    9840\n",
            "Retail                  11140\n",
            "Sales                   17250\n",
            "Support                  5000\n",
            "Name: Monthly Salary, dtype: int64\n"
          ]
        }
      ]
    },
    {
      "cell_type": "code",
      "source": [
        "#Multiple Aggregation Function\n",
        "\n",
        "agg_fn={\n",
        "    \"Monthly Salary\":['sum','mean']\n",
        "}\n",
        "\n",
        "res = grp_df.agg(agg_fn)\n",
        "\n",
        "print(res)\n",
        "\n"
      ],
      "metadata": {
        "colab": {
          "base_uri": "https://localhost:8080/"
        },
        "id": "oE96FLII60Wc",
        "outputId": "eec5d671-1076-4b64-cc09-bc531e8344c9"
      },
      "execution_count": null,
      "outputs": [
        {
          "output_type": "stream",
          "name": "stdout",
          "text": [
            "                     Monthly Salary        \n",
            "                                sum    mean\n",
            "Department                                 \n",
            "Accounting                     6250  3125.0\n",
            "Business Development          12400  3100.0\n",
            "Human Resources               11660  5830.0\n",
            "Legal                          9840  4920.0\n",
            "Retail                        11140  2785.0\n",
            "Sales                         17250  3450.0\n",
            "Support                        5000  2500.0\n"
          ]
        }
      ]
    },
    {
      "cell_type": "code",
      "source": [
        "#Custom Aggregation Function\n",
        "\n",
        "\n",
        "def sal_rang(series):\n",
        "  return series.max() -series.min()\n",
        "\n",
        "\n",
        "res_agg = grp_df['Monthly Salary'].agg(sal_rang)\n",
        "print(res_agg)"
      ],
      "metadata": {
        "colab": {
          "base_uri": "https://localhost:8080/"
        },
        "id": "fXAiW-IF7YSh",
        "outputId": "799198f6-3249-4600-bbd7-223a24d58ad5"
      },
      "execution_count": null,
      "outputs": [
        {
          "output_type": "stream",
          "name": "stdout",
          "text": [
            "Department\n",
            "Accounting              0\n",
            "Business Development    0\n",
            "Human Resources         0\n",
            "Legal                   0\n",
            "Retail                  0\n",
            "Sales                   0\n",
            "Support                 0\n",
            "Name: Monthly Salary, dtype: int64\n"
          ]
        }
      ]
    },
    {
      "cell_type": "code",
      "source": [
        "#Grouping by multiple columns\n",
        "\n",
        "\n",
        "grp_df_col = df3.groupby(['Department','Job Status'])\n"
      ],
      "metadata": {
        "id": "oD9w0fm68ElB"
      },
      "execution_count": null,
      "outputs": []
    }
  ]
}